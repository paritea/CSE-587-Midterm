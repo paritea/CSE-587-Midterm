{
 "cells": [
  {
   "cell_type": "markdown",
   "metadata": {},
   "source": [
    "## *Varying dropout rates: Ablation study*\n",
    "\n",
    "Vary dropout rates as 0.5 and 0.6 each. "
   ]
  },
  {
   "cell_type": "code",
   "execution_count": null,
   "metadata": {
    "_cell_guid": "b1076dfc-b9ad-4769-8c92-a6c4dae69d19",
    "_uuid": "8f2839f25d086af736a60e9eeb907d3b93b6e0e5",
    "execution": {
     "iopub.execute_input": "2025-02-27T21:08:40.022424Z",
     "iopub.status.busy": "2025-02-27T21:08:40.022203Z",
     "iopub.status.idle": "2025-02-27T21:09:12.265098Z",
     "shell.execute_reply": "2025-02-27T21:09:12.264442Z",
     "shell.execute_reply.started": "2025-02-27T21:08:40.022404Z"
    },
    "trusted": true
   },
   "outputs": [],
   "source": [
    "import re\n",
    "import numpy as np\n",
    "import pandas as pd\n",
    "import matplotlib.pyplot as plt\n",
    "import os \n",
    "\n",
    "import torch\n",
    "from torch import nn\n",
    "from torch.utils.data import Dataset, DataLoader\n",
    "import torchmetrics\n",
    "\n",
    "import pytorch_lightning as pl\n",
    "from pytorch_lightning.loggers import TensorBoardLogger\n",
    "\n",
    "from sklearn.model_selection import train_test_split\n",
    "from tqdm import tqdm\n",
    "\n",
    "\n",
    "from gensim.models import KeyedVectors"
   ]
  },
  {
   "cell_type": "code",
   "execution_count": null,
   "metadata": {
    "execution": {
     "iopub.execute_input": "2025-02-27T21:09:12.266650Z",
     "iopub.status.busy": "2025-02-27T21:09:12.266025Z",
     "iopub.status.idle": "2025-02-27T21:09:41.111204Z",
     "shell.execute_reply": "2025-02-27T21:09:41.110368Z",
     "shell.execute_reply.started": "2025-02-27T21:09:12.266616Z"
    },
    "trusted": true
   },
   "outputs": [
    {
     "data": {
      "text/html": [
       "<div>\n",
       "<style scoped>\n",
       "    .dataframe tbody tr th:only-of-type {\n",
       "        vertical-align: middle;\n",
       "    }\n",
       "\n",
       "    .dataframe tbody tr th {\n",
       "        vertical-align: top;\n",
       "    }\n",
       "\n",
       "    .dataframe thead th {\n",
       "        text-align: right;\n",
       "    }\n",
       "</style>\n",
       "<table border=\"1\" class=\"dataframe\">\n",
       "  <thead>\n",
       "    <tr style=\"text-align: right;\">\n",
       "      <th></th>\n",
       "      <th>Unnamed: 0</th>\n",
       "      <th>topic</th>\n",
       "      <th>source</th>\n",
       "      <th>bias</th>\n",
       "      <th>url</th>\n",
       "      <th>title</th>\n",
       "      <th>date</th>\n",
       "      <th>authors</th>\n",
       "      <th>content</th>\n",
       "      <th>content_original</th>\n",
       "      <th>source_url</th>\n",
       "      <th>bias_text</th>\n",
       "      <th>ID</th>\n",
       "    </tr>\n",
       "  </thead>\n",
       "  <tbody>\n",
       "    <tr>\n",
       "      <th>0</th>\n",
       "      <td>0</td>\n",
       "      <td>immigration</td>\n",
       "      <td>National Review</td>\n",
       "      <td>2</td>\n",
       "      <td>https://www.nationalreview.com/2018/12/governm...</td>\n",
       "      <td>shutdown theater again</td>\n",
       "      <td>2018-12-12</td>\n",
       "      <td>Kevin D. Williamson, Kyle Smith, Andrew C. Mcc...</td>\n",
       "      <td>President Trump and Senate Minority Leader Chu...</td>\n",
       "      <td>president trump and senate minority leader chu...</td>\n",
       "      <td>www.nationalreview.com</td>\n",
       "      <td>right</td>\n",
       "      <td>zl7kc7EmAyIdUMIo</td>\n",
       "    </tr>\n",
       "    <tr>\n",
       "      <th>1</th>\n",
       "      <td>1</td>\n",
       "      <td>culture</td>\n",
       "      <td>Yahoo! The 360</td>\n",
       "      <td>1</td>\n",
       "      <td>https://news.yahoo.com/can-the-developing-worl...</td>\n",
       "      <td>can the developing world endure the coronavirus</td>\n",
       "      <td>2020-06-30</td>\n",
       "      <td>Mike Bebernes</td>\n",
       "      <td>“ The 360 ” shows you diverse perspectives on ...</td>\n",
       "      <td>the 360 shows you diverse perspectives on the ...</td>\n",
       "      <td>www.news.yahoo.com</td>\n",
       "      <td>center</td>\n",
       "      <td>xpbjYTJYPdlw6HmJ</td>\n",
       "    </tr>\n",
       "  </tbody>\n",
       "</table>\n",
       "</div>"
      ],
      "text/plain": [
       "   Unnamed: 0        topic           source  bias  \\\n",
       "0           0  immigration  National Review     2   \n",
       "1           1      culture   Yahoo! The 360     1   \n",
       "\n",
       "                                                 url  \\\n",
       "0  https://www.nationalreview.com/2018/12/governm...   \n",
       "1  https://news.yahoo.com/can-the-developing-worl...   \n",
       "\n",
       "                                             title        date  \\\n",
       "0                           shutdown theater again  2018-12-12   \n",
       "1  can the developing world endure the coronavirus  2020-06-30   \n",
       "\n",
       "                                             authors  \\\n",
       "0  Kevin D. Williamson, Kyle Smith, Andrew C. Mcc...   \n",
       "1                                      Mike Bebernes   \n",
       "\n",
       "                                             content  \\\n",
       "0  President Trump and Senate Minority Leader Chu...   \n",
       "1  “ The 360 ” shows you diverse perspectives on ...   \n",
       "\n",
       "                                    content_original              source_url  \\\n",
       "0  president trump and senate minority leader chu...  www.nationalreview.com   \n",
       "1  the 360 shows you diverse perspectives on the ...      www.news.yahoo.com   \n",
       "\n",
       "  bias_text                ID  \n",
       "0     right  zl7kc7EmAyIdUMIo  \n",
       "1    center  xpbjYTJYPdlw6HmJ  "
      ]
     },
     "execution_count": 2,
     "metadata": {},
     "output_type": "execute_result"
    }
   ],
   "source": [
    "TRAIN_PATH = '/kaggle/input/bias-of-us-news-media-houses/Train.xlsx'\n",
    "\n",
    "def clean_text(text: str) -> str:\n",
    "    \"\"\"Clean the input text by removing URLs, 'RT', special characters, and extra whitespace.\"\"\"\n",
    "    text = re.sub(r\"http\\S+\", \" \", text)  \n",
    "    text = re.sub(r\"RT \", \" \", text)       \n",
    "    text = re.sub(r\"[^a-zA-Z\\'\\.\\,\\d\\s]\", \" \", text)  \n",
    "    text = re.sub(r'\\t', ' ', text)\n",
    "    text = re.sub(r'\\n', ' ', text)\n",
    "    text = re.sub(r\"\\s+\", \" \", text)\n",
    "    return text.strip()\n",
    "\n",
    "def load_and_preprocess_data(path: str) -> pd.DataFrame:\n",
    "    df = pd.read_excel(path, engine='openpyxl')\n",
    "    for col in ['content_original', 'title']:\n",
    "        df[col] = df[col].str.split(' \\n\\n---\\n\\n').str[0]\n",
    "        df[col] = (df[col]\n",
    "                   .str.replace('-', ' ')\n",
    "                   .str.replace('[^\\w\\s]', '', regex=True)\n",
    "                   .str.replace('\\n', ' ')\n",
    "                   .str.lower())\n",
    "        df[col] = df[col].apply(clean_text)\n",
    "    return df\n",
    "\n",
    "# Load and preview the data\n",
    "df_train = load_and_preprocess_data(TRAIN_PATH)\n",
    "df_train.head(2)\n"
   ]
  },
  {
   "cell_type": "code",
   "execution_count": null,
   "metadata": {
    "execution": {
     "iopub.execute_input": "2025-02-27T21:09:41.112383Z",
     "iopub.status.busy": "2025-02-27T21:09:41.111917Z",
     "iopub.status.idle": "2025-02-27T21:11:21.934241Z",
     "shell.execute_reply": "2025-02-27T21:11:21.933457Z",
     "shell.execute_reply.started": "2025-02-27T21:09:41.112360Z"
    },
    "trusted": true
   },
   "outputs": [
    {
     "name": "stdout",
     "output_type": "stream",
     "text": [
      "Loading Word2Vec model from binary file (this may take several minutes)...\n",
      "Saving cached version...\n",
      "Word2Vec embeddings loaded: vocab size = 3000001, embedding dim = 300\n"
     ]
    }
   ],
   "source": [
    "word2vec_model_path = '/kaggle/input/googlenewsvectorsnegative300/GoogleNews-vectors-negative300.bin'\n",
    "cached_kv_path = 'word2vec_model.kv'\n",
    "\n",
    "if os.path.exists(cached_kv_path):\n",
    "    print(\"Loading cached Word2Vec model...\")\n",
    "    w2v_model = KeyedVectors.load(cached_kv_path, mmap='r')\n",
    "else:\n",
    "    print(\"Loading Word2Vec model from binary file (this may take several minutes)...\")\n",
    "    w2v_model = KeyedVectors.load_word2vec_format(word2vec_model_path, binary=True)\n",
    "    print(\"Saving cached version...\")\n",
    "    w2v_model.save(cached_kv_path)\n",
    "\n",
    "UNK_TOKEN = \"<unk>\"\n",
    "UNK_INDEX = 0\n",
    "word2vec_vocab = {word: idx + 1 for word, idx in w2v_model.key_to_index.items()}\n",
    "vocab_size = len(word2vec_vocab) + 1\n",
    "embedding_dim = w2v_model.vector_size \n",
    "\n",
    "embedding_matrix = torch.zeros(vocab_size, embedding_dim)\n",
    "for word, idx in word2vec_vocab.items():\n",
    "    embedding_matrix[idx] = torch.tensor(w2v_model[word])\n",
    "    \n",
    "print(f\"Word2Vec embeddings loaded: vocab size = {vocab_size}, embedding dim = {embedding_dim}\")\n"
   ]
  },
  {
   "cell_type": "code",
   "execution_count": 4,
   "metadata": {
    "execution": {
     "iopub.execute_input": "2025-02-27T21:11:21.935343Z",
     "iopub.status.busy": "2025-02-27T21:11:21.935068Z",
     "iopub.status.idle": "2025-02-27T21:11:21.940827Z",
     "shell.execute_reply": "2025-02-27T21:11:21.939882Z",
     "shell.execute_reply.started": "2025-02-27T21:11:21.935323Z"
    },
    "trusted": true
   },
   "outputs": [],
   "source": [
    "def basic_tokenizer(text: str) -> list:\n",
    "    \"\"\"Tokenize text by splitting on whitespace.\"\"\"\n",
    "    return text.split()\n",
    "\n",
    "def tokenize_and_pad(text: str, max_len: int) -> torch.Tensor:\n",
    "    \"\"\"\n",
    "    Tokenizes the input text and converts tokens to indices using the Word2Vec vocabulary.\n",
    "    Unknown tokens are assigned index 0. The sequence is padded or truncated to max_len.\n",
    "    \"\"\"\n",
    "    tokens = basic_tokenizer(text)\n",
    "    indices = [word2vec_vocab.get(token, UNK_INDEX) for token in tokens]\n",
    "    padded = indices[:max_len] + [0] * max(0, max_len - len(indices))\n",
    "    return torch.tensor(padded)\n"
   ]
  },
  {
   "cell_type": "code",
   "execution_count": null,
   "metadata": {
    "execution": {
     "iopub.execute_input": "2025-02-27T21:11:21.941907Z",
     "iopub.status.busy": "2025-02-27T21:11:21.941680Z",
     "iopub.status.idle": "2025-02-27T21:11:22.025825Z",
     "shell.execute_reply": "2025-02-27T21:11:22.024910Z",
     "shell.execute_reply.started": "2025-02-27T21:11:21.941871Z"
    },
    "trusted": true
   },
   "outputs": [
    {
     "name": "stdout",
     "output_type": "stream",
     "text": [
      "Train shape: (21272, 13) Val shape: (5318, 13)\n"
     ]
    }
   ],
   "source": [
    "class BiasDataset(Dataset):\n",
    "    def __init__(self, data: pd.DataFrame, max_sentence_length: int):\n",
    "        self.data = data.reset_index(drop=True)\n",
    "        self.max_sentence_length = max_sentence_length\n",
    "\n",
    "    def __len__(self) -> int:\n",
    "        return len(self.data)\n",
    "  \n",
    "    def __getitem__(self, index: int) -> dict:\n",
    "        row = self.data.iloc[index]\n",
    "        body = tokenize_and_pad(row['content_original'], self.max_sentence_length)\n",
    "        title = tokenize_and_pad(row['title'], self.max_sentence_length)\n",
    "    \n",
    "        label = torch.tensor(row['bias'], dtype=torch.long)\n",
    "        return {\"body\": body, \"title\": title, \"labels\": label}\n",
    "\n",
    "class BiasDataModule(pl.LightningDataModule):\n",
    "    def __init__(self, train_df: pd.DataFrame, val_df: pd.DataFrame, max_sentence_length: int, batch_size: int):\n",
    "        super().__init__()\n",
    "        self.train_df = train_df\n",
    "        self.val_df = val_df\n",
    "        self.max_sentence_length = max_sentence_length\n",
    "        self.batch_size = batch_size\n",
    "\n",
    "    def setup(self, stage=None):\n",
    "        self.train_dataset = BiasDataset(self.train_df, self.max_sentence_length)\n",
    "        self.val_dataset = BiasDataset(self.val_df, self.max_sentence_length)\n",
    "\n",
    "    def train_dataloader(self):\n",
    "        return DataLoader(self.train_dataset, batch_size=self.batch_size,\n",
    "                          shuffle=True, num_workers=4, drop_last=True)\n",
    "\n",
    "    def val_dataloader(self):\n",
    "        return DataLoader(self.val_dataset, batch_size=self.batch_size,\n",
    "                          shuffle=False, num_workers=4, drop_last=False)\n",
    "\n",
    "train_df, val_df = train_test_split(df_train, test_size=0.2, random_state=42)\n",
    "print(\"Train shape:\", train_df.shape, \"Val shape:\", val_df.shape)\n",
    "\n",
    "BATCH_SIZE = 1024\n",
    "MAX_LEN = 120  \n",
    "data_module = BiasDataModule(train_df, val_df, max_sentence_length=MAX_LEN, batch_size=BATCH_SIZE)\n",
    "data_module.setup()\n"
   ]
  },
  {
   "cell_type": "code",
   "execution_count": null,
   "metadata": {
    "execution": {
     "iopub.execute_input": "2025-02-27T21:11:22.027872Z",
     "iopub.status.busy": "2025-02-27T21:11:22.027636Z",
     "iopub.status.idle": "2025-02-27T21:11:22.084506Z",
     "shell.execute_reply": "2025-02-27T21:11:22.083629Z",
     "shell.execute_reply.started": "2025-02-27T21:11:22.027852Z"
    },
    "trusted": true
   },
   "outputs": [],
   "source": [
    "import pytorch_lightning as pl\n",
    "import torch\n",
    "import torch.nn as nn\n",
    "import torchmetrics\n",
    "\n",
    "class LitBiasModel_NoMHA(pl.LightningModule):\n",
    "    def __init__(self, embedding_matrix: torch.Tensor, num_classes: int,\n",
    "                 embed_dim: int, hidd_dim: int, num_layers: int = 2, \n",
    "                 dropout_rate: float = 0.4, lr: float = 1e-3):\n",
    "        super().__init__()\n",
    "        self.save_hyperparameters(ignore=[\"embedding_matrix\"])\n",
    "        \n",
    "        # Frozen embedding layer using pretrained Word2Vec embeddings\n",
    "        self.embedding = nn.Embedding.from_pretrained(embedding_matrix, freeze=True)\n",
    "        \n",
    "        # Shared bidirectional LSTM layer with dropout\n",
    "        self.bilstm = nn.LSTM(\n",
    "            input_size=embed_dim,\n",
    "            hidden_size=hidd_dim,\n",
    "            num_layers=num_layers,\n",
    "            batch_first=True,\n",
    "            dropout=dropout_rate,\n",
    "            bidirectional=True\n",
    "        )\n",
    "        \n",
    "        # Classification head (feedforward network) with dropout\n",
    "        self.classifier = nn.Sequential(\n",
    "            nn.Dropout(dropout_rate),\n",
    "            nn.ReLU(),\n",
    "            nn.Linear(hidd_dim, 64),\n",
    "            nn.BatchNorm1d(64),\n",
    "            nn.Dropout(dropout_rate),\n",
    "            nn.ReLU(),\n",
    "            nn.Linear(64, 32),\n",
    "            nn.BatchNorm1d(32),\n",
    "            nn.Dropout(dropout_rate),\n",
    "            nn.ReLU(),\n",
    "            nn.Linear(32, num_classes)\n",
    "        )\n",
    "        \n",
    "        self.loss_fn = nn.CrossEntropyLoss()\n",
    "        self.train_acc = torchmetrics.Accuracy(num_classes=num_classes, task=\"multiclass\")\n",
    "        self.val_acc = torchmetrics.Accuracy(num_classes=num_classes, task=\"multiclass\")\n",
    "        self._train_losses = []\n",
    "        self._val_losses = []\n",
    "        self.train_history = {\"acc\": [], \"loss\": []}\n",
    "        self.val_history = {\"acc\": [], \"loss\": []}\n",
    "\n",
    "    def forward(self, title: torch.Tensor, body: torch.Tensor) -> torch.Tensor:\n",
    "        # Obtain embeddings\n",
    "        title_embed = self.embedding(title)\n",
    "        body_embed = self.embedding(body)\n",
    "        \n",
    "        # Shared bidirectional LSTM for title and body separately\n",
    "        _, (title_hidden, _) = self.bilstm(title_embed)\n",
    "        _, (body_hidden, _) = self.bilstm(body_embed)\n",
    "        \n",
    "        # Aggregate hidden states by mean pooling over layers\n",
    "        title_repr = title_hidden.permute(1, 0, 2).mean(dim=1)\n",
    "        body_repr = body_hidden.permute(1, 0, 2).mean(dim=1)\n",
    "        \n",
    "        # Fuse the representations\n",
    "        aggregated = (title_repr + body_repr) / 2\n",
    "        \n",
    "        logits = self.classifier(aggregated)\n",
    "        return logits\n",
    "\n",
    "    def training_step(self, batch, batch_idx):\n",
    "        logits = self.forward(batch[\"title\"], batch[\"body\"])\n",
    "        loss = self.loss_fn(logits, batch[\"labels\"])\n",
    "        self._train_losses.append(loss)\n",
    "        self.train_acc.update(logits, batch[\"labels\"])\n",
    "        self.log(\"train_loss\", loss, prog_bar=True)\n",
    "        return loss\n",
    "\n",
    "    def validation_step(self, batch, batch_idx):\n",
    "        logits = self.forward(batch[\"title\"], batch[\"body\"])\n",
    "        loss = self.loss_fn(logits, batch[\"labels\"])\n",
    "        self._val_losses.append(loss)\n",
    "        self.val_acc.update(logits, batch[\"labels\"])\n",
    "        self.log(\"val_loss\", loss, prog_bar=True)\n",
    "        return loss\n",
    "\n",
    "    def on_train_epoch_end(self):\n",
    "        avg_loss = torch.stack(self._train_losses).mean() if self._train_losses else torch.tensor(0.0, device=self.device)\n",
    "        train_acc = self.train_acc.compute()\n",
    "        self.train_history[\"loss\"].append(avg_loss.item())\n",
    "        self.train_history[\"acc\"].append(train_acc.item())\n",
    "        self.log_dict({\"Epoch_Train_Loss\": avg_loss, \"Epoch_Train_Acc\": train_acc}, prog_bar=True)\n",
    "        print(f\"Train - Acc: {train_acc:.4f}, Loss: {avg_loss:.4f}\")\n",
    "        self.train_acc.reset()\n",
    "        self._train_losses.clear()\n",
    "\n",
    "    def on_validation_epoch_end(self):\n",
    "        avg_loss = torch.stack(self._val_losses).mean() if self._val_losses else torch.tensor(0.0, device=self.device)\n",
    "        val_acc = self.val_acc.compute()\n",
    "        self.val_history[\"loss\"].append(avg_loss.item())\n",
    "        self.val_history[\"acc\"].append(val_acc.item())\n",
    "        self.log_dict({\"Epoch_Val_Loss\": avg_loss, \"Epoch_Val_Acc\": val_acc}, prog_bar=True)\n",
    "        print(f\"Val - Acc: {val_acc:.4f}, Loss: {avg_loss:.4f}\")\n",
    "        self.val_acc.reset()\n",
    "        self._val_losses.clear()\n",
    "\n",
    "    def configure_optimizers(self):\n",
    "        return torch.optim.AdamW(self.parameters(), lr=self.hparams.lr)\n",
    "\n",
    "dropout_rates = [0.5, 0.6]  \n",
    "\n",
    "\n",
    "\n"
   ]
  },
  {
   "cell_type": "code",
   "execution_count": 7,
   "metadata": {
    "execution": {
     "iopub.execute_input": "2025-02-27T21:11:22.085668Z",
     "iopub.status.busy": "2025-02-27T21:11:22.085373Z",
     "iopub.status.idle": "2025-02-27T21:57:33.707475Z",
     "shell.execute_reply": "2025-02-27T21:57:33.706507Z",
     "shell.execute_reply.started": "2025-02-27T21:11:22.085645Z"
    },
    "trusted": true
   },
   "outputs": [
    {
     "name": "stdout",
     "output_type": "stream",
     "text": [
      "Training Dropout 0.5\n"
     ]
    },
    {
     "data": {
      "application/vnd.jupyter.widget-view+json": {
       "model_id": "",
       "version_major": 2,
       "version_minor": 0
      },
      "text/plain": [
       "Sanity Checking: |          | 0/? [00:00<?, ?it/s]"
      ]
     },
     "metadata": {},
     "output_type": "display_data"
    },
    {
     "name": "stdout",
     "output_type": "stream",
     "text": [
      "Val - Acc: 0.2852, Loss: 1.1249\n"
     ]
    },
    {
     "data": {
      "application/vnd.jupyter.widget-view+json": {
       "model_id": "8730e2662fe649de9e08a64e333a1886",
       "version_major": 2,
       "version_minor": 0
      },
      "text/plain": [
       "Training: |          | 0/? [00:00<?, ?it/s]"
      ]
     },
     "metadata": {},
     "output_type": "display_data"
    },
    {
     "data": {
      "application/vnd.jupyter.widget-view+json": {
       "model_id": "",
       "version_major": 2,
       "version_minor": 0
      },
      "text/plain": [
       "Validation: |          | 0/? [00:00<?, ?it/s]"
      ]
     },
     "metadata": {},
     "output_type": "display_data"
    },
    {
     "name": "stdout",
     "output_type": "stream",
     "text": [
      "Val - Acc: 0.2824, Loss: 1.1032\n",
      "Train - Acc: 0.3271, Loss: 1.1832\n"
     ]
    },
    {
     "data": {
      "application/vnd.jupyter.widget-view+json": {
       "model_id": "",
       "version_major": 2,
       "version_minor": 0
      },
      "text/plain": [
       "Validation: |          | 0/? [00:00<?, ?it/s]"
      ]
     },
     "metadata": {},
     "output_type": "display_data"
    },
    {
     "name": "stdout",
     "output_type": "stream",
     "text": [
      "Val - Acc: 0.4143, Loss: 1.0863\n",
      "Train - Acc: 0.3700, Loss: 1.1185\n"
     ]
    },
    {
     "data": {
      "application/vnd.jupyter.widget-view+json": {
       "model_id": "",
       "version_major": 2,
       "version_minor": 0
      },
      "text/plain": [
       "Validation: |          | 0/? [00:00<?, ?it/s]"
      ]
     },
     "metadata": {},
     "output_type": "display_data"
    },
    {
     "name": "stdout",
     "output_type": "stream",
     "text": [
      "Val - Acc: 0.4831, Loss: 1.0408\n",
      "Train - Acc: 0.4455, Loss: 1.0470\n"
     ]
    },
    {
     "data": {
      "application/vnd.jupyter.widget-view+json": {
       "model_id": "",
       "version_major": 2,
       "version_minor": 0
      },
      "text/plain": [
       "Validation: |          | 0/? [00:00<?, ?it/s]"
      ]
     },
     "metadata": {},
     "output_type": "display_data"
    },
    {
     "name": "stdout",
     "output_type": "stream",
     "text": [
      "Val - Acc: 0.5967, Loss: 0.8792\n",
      "Train - Acc: 0.5299, Loss: 0.9615\n"
     ]
    },
    {
     "data": {
      "application/vnd.jupyter.widget-view+json": {
       "model_id": "",
       "version_major": 2,
       "version_minor": 0
      },
      "text/plain": [
       "Validation: |          | 0/? [00:00<?, ?it/s]"
      ]
     },
     "metadata": {},
     "output_type": "display_data"
    },
    {
     "name": "stdout",
     "output_type": "stream",
     "text": [
      "Val - Acc: 0.3394, Loss: 1.7154\n",
      "Train - Acc: 0.6042, Loss: 0.8920\n"
     ]
    },
    {
     "data": {
      "application/vnd.jupyter.widget-view+json": {
       "model_id": "",
       "version_major": 2,
       "version_minor": 0
      },
      "text/plain": [
       "Validation: |          | 0/? [00:00<?, ?it/s]"
      ]
     },
     "metadata": {},
     "output_type": "display_data"
    },
    {
     "name": "stdout",
     "output_type": "stream",
     "text": [
      "Val - Acc: 0.6484, Loss: 0.7809\n",
      "Train - Acc: 0.6226, Loss: 0.8554\n"
     ]
    },
    {
     "data": {
      "application/vnd.jupyter.widget-view+json": {
       "model_id": "",
       "version_major": 2,
       "version_minor": 0
      },
      "text/plain": [
       "Validation: |          | 0/? [00:00<?, ?it/s]"
      ]
     },
     "metadata": {},
     "output_type": "display_data"
    },
    {
     "name": "stdout",
     "output_type": "stream",
     "text": [
      "Val - Acc: 0.6544, Loss: 0.7692\n",
      "Train - Acc: 0.6704, Loss: 0.7929\n"
     ]
    },
    {
     "data": {
      "application/vnd.jupyter.widget-view+json": {
       "model_id": "",
       "version_major": 2,
       "version_minor": 0
      },
      "text/plain": [
       "Validation: |          | 0/? [00:00<?, ?it/s]"
      ]
     },
     "metadata": {},
     "output_type": "display_data"
    },
    {
     "name": "stdout",
     "output_type": "stream",
     "text": [
      "Val - Acc: 0.6978, Loss: 0.7038\n",
      "Train - Acc: 0.6863, Loss: 0.7599\n"
     ]
    },
    {
     "data": {
      "application/vnd.jupyter.widget-view+json": {
       "model_id": "",
       "version_major": 2,
       "version_minor": 0
      },
      "text/plain": [
       "Validation: |          | 0/? [00:00<?, ?it/s]"
      ]
     },
     "metadata": {},
     "output_type": "display_data"
    },
    {
     "name": "stdout",
     "output_type": "stream",
     "text": [
      "Val - Acc: 0.7044, Loss: 0.7200\n",
      "Train - Acc: 0.7170, Loss: 0.7141\n"
     ]
    },
    {
     "data": {
      "application/vnd.jupyter.widget-view+json": {
       "model_id": "",
       "version_major": 2,
       "version_minor": 0
      },
      "text/plain": [
       "Validation: |          | 0/? [00:00<?, ?it/s]"
      ]
     },
     "metadata": {},
     "output_type": "display_data"
    },
    {
     "name": "stdout",
     "output_type": "stream",
     "text": [
      "Val - Acc: 0.6557, Loss: 0.9626\n",
      "Train - Acc: 0.7251, Loss: 0.6894\n"
     ]
    },
    {
     "data": {
      "application/vnd.jupyter.widget-view+json": {
       "model_id": "",
       "version_major": 2,
       "version_minor": 0
      },
      "text/plain": [
       "Validation: |          | 0/? [00:00<?, ?it/s]"
      ]
     },
     "metadata": {},
     "output_type": "display_data"
    },
    {
     "name": "stdout",
     "output_type": "stream",
     "text": [
      "Val - Acc: 0.7262, Loss: 0.6418\n",
      "Train - Acc: 0.7359, Loss: 0.6652\n"
     ]
    },
    {
     "data": {
      "application/vnd.jupyter.widget-view+json": {
       "model_id": "",
       "version_major": 2,
       "version_minor": 0
      },
      "text/plain": [
       "Validation: |          | 0/? [00:00<?, ?it/s]"
      ]
     },
     "metadata": {},
     "output_type": "display_data"
    },
    {
     "name": "stdout",
     "output_type": "stream",
     "text": [
      "Val - Acc: 0.6986, Loss: 0.7427\n",
      "Train - Acc: 0.7188, Loss: 0.7165\n"
     ]
    },
    {
     "data": {
      "application/vnd.jupyter.widget-view+json": {
       "model_id": "",
       "version_major": 2,
       "version_minor": 0
      },
      "text/plain": [
       "Validation: |          | 0/? [00:00<?, ?it/s]"
      ]
     },
     "metadata": {},
     "output_type": "display_data"
    },
    {
     "name": "stdout",
     "output_type": "stream",
     "text": [
      "Val - Acc: 0.7381, Loss: 0.6235\n",
      "Train - Acc: 0.7470, Loss: 0.6489\n"
     ]
    },
    {
     "data": {
      "application/vnd.jupyter.widget-view+json": {
       "model_id": "",
       "version_major": 2,
       "version_minor": 0
      },
      "text/plain": [
       "Validation: |          | 0/? [00:00<?, ?it/s]"
      ]
     },
     "metadata": {},
     "output_type": "display_data"
    },
    {
     "name": "stdout",
     "output_type": "stream",
     "text": [
      "Val - Acc: 0.7317, Loss: 0.6190\n",
      "Train - Acc: 0.7679, Loss: 0.6103\n"
     ]
    },
    {
     "data": {
      "application/vnd.jupyter.widget-view+json": {
       "model_id": "",
       "version_major": 2,
       "version_minor": 0
      },
      "text/plain": [
       "Validation: |          | 0/? [00:00<?, ?it/s]"
      ]
     },
     "metadata": {},
     "output_type": "display_data"
    },
    {
     "name": "stdout",
     "output_type": "stream",
     "text": [
      "Val - Acc: 0.7450, Loss: 0.6017\n",
      "Train - Acc: 0.7752, Loss: 0.5924\n"
     ]
    },
    {
     "data": {
      "application/vnd.jupyter.widget-view+json": {
       "model_id": "",
       "version_major": 2,
       "version_minor": 0
      },
      "text/plain": [
       "Validation: |          | 0/? [00:00<?, ?it/s]"
      ]
     },
     "metadata": {},
     "output_type": "display_data"
    },
    {
     "name": "stdout",
     "output_type": "stream",
     "text": [
      "Val - Acc: 0.7394, Loss: 0.6146\n",
      "Train - Acc: 0.7857, Loss: 0.5674\n"
     ]
    },
    {
     "data": {
      "application/vnd.jupyter.widget-view+json": {
       "model_id": "",
       "version_major": 2,
       "version_minor": 0
      },
      "text/plain": [
       "Validation: |          | 0/? [00:00<?, ?it/s]"
      ]
     },
     "metadata": {},
     "output_type": "display_data"
    },
    {
     "name": "stdout",
     "output_type": "stream",
     "text": [
      "Val - Acc: 0.7518, Loss: 0.6090\n",
      "Train - Acc: 0.7932, Loss: 0.5557\n"
     ]
    },
    {
     "data": {
      "application/vnd.jupyter.widget-view+json": {
       "model_id": "",
       "version_major": 2,
       "version_minor": 0
      },
      "text/plain": [
       "Validation: |          | 0/? [00:00<?, ?it/s]"
      ]
     },
     "metadata": {},
     "output_type": "display_data"
    },
    {
     "name": "stdout",
     "output_type": "stream",
     "text": [
      "Val - Acc: 0.7516, Loss: 0.6051\n",
      "Train - Acc: 0.8036, Loss: 0.5329\n"
     ]
    },
    {
     "data": {
      "application/vnd.jupyter.widget-view+json": {
       "model_id": "",
       "version_major": 2,
       "version_minor": 0
      },
      "text/plain": [
       "Validation: |          | 0/? [00:00<?, ?it/s]"
      ]
     },
     "metadata": {},
     "output_type": "display_data"
    },
    {
     "name": "stdout",
     "output_type": "stream",
     "text": [
      "Val - Acc: 0.7535, Loss: 0.6427\n",
      "Train - Acc: 0.8047, Loss: 0.5268\n"
     ]
    },
    {
     "data": {
      "application/vnd.jupyter.widget-view+json": {
       "model_id": "",
       "version_major": 2,
       "version_minor": 0
      },
      "text/plain": [
       "Validation: |          | 0/? [00:00<?, ?it/s]"
      ]
     },
     "metadata": {},
     "output_type": "display_data"
    },
    {
     "name": "stdout",
     "output_type": "stream",
     "text": [
      "Val - Acc: 0.7281, Loss: 0.6420\n",
      "Train - Acc: 0.8098, Loss: 0.5141\n",
      "Training Dropout 0.6\n"
     ]
    },
    {
     "data": {
      "application/vnd.jupyter.widget-view+json": {
       "model_id": "",
       "version_major": 2,
       "version_minor": 0
      },
      "text/plain": [
       "Sanity Checking: |          | 0/? [00:00<?, ?it/s]"
      ]
     },
     "metadata": {},
     "output_type": "display_data"
    },
    {
     "name": "stdout",
     "output_type": "stream",
     "text": [
      "Val - Acc: 0.3867, Loss: 1.1004\n"
     ]
    },
    {
     "data": {
      "application/vnd.jupyter.widget-view+json": {
       "model_id": "b6a5e6557d5f4cff9e88df92243178f1",
       "version_major": 2,
       "version_minor": 0
      },
      "text/plain": [
       "Training: |          | 0/? [00:00<?, ?it/s]"
      ]
     },
     "metadata": {},
     "output_type": "display_data"
    },
    {
     "data": {
      "application/vnd.jupyter.widget-view+json": {
       "model_id": "",
       "version_major": 2,
       "version_minor": 0
      },
      "text/plain": [
       "Validation: |          | 0/? [00:00<?, ?it/s]"
      ]
     },
     "metadata": {},
     "output_type": "display_data"
    },
    {
     "name": "stdout",
     "output_type": "stream",
     "text": [
      "Val - Acc: 0.3800, Loss: 1.0990\n",
      "Train - Acc: 0.3446, Loss: 1.1819\n"
     ]
    },
    {
     "data": {
      "application/vnd.jupyter.widget-view+json": {
       "model_id": "",
       "version_major": 2,
       "version_minor": 0
      },
      "text/plain": [
       "Validation: |          | 0/? [00:00<?, ?it/s]"
      ]
     },
     "metadata": {},
     "output_type": "display_data"
    },
    {
     "name": "stdout",
     "output_type": "stream",
     "text": [
      "Val - Acc: 0.3800, Loss: 1.0924\n",
      "Train - Acc: 0.3672, Loss: 1.1331\n"
     ]
    },
    {
     "data": {
      "application/vnd.jupyter.widget-view+json": {
       "model_id": "5e86c4c2691a4180ad311f9ba21b7ddb",
       "version_major": 2,
       "version_minor": 0
      },
      "text/plain": [
       "Validation: |          | 0/? [00:00<?, ?it/s]"
      ]
     },
     "metadata": {},
     "output_type": "display_data"
    },
    {
     "name": "stdout",
     "output_type": "stream",
     "text": [
      "Val - Acc: 0.4430, Loss: 1.0641\n",
      "Train - Acc: 0.4124, Loss: 1.0789\n"
     ]
    },
    {
     "data": {
      "application/vnd.jupyter.widget-view+json": {
       "model_id": "5de58e08b4a04eefa95887337a8e7155",
       "version_major": 2,
       "version_minor": 0
      },
      "text/plain": [
       "Validation: |          | 0/? [00:00<?, ?it/s]"
      ]
     },
     "metadata": {},
     "output_type": "display_data"
    },
    {
     "name": "stdout",
     "output_type": "stream",
     "text": [
      "Val - Acc: 0.4816, Loss: 0.9944\n",
      "Train - Acc: 0.4637, Loss: 1.0265\n"
     ]
    },
    {
     "data": {
      "application/vnd.jupyter.widget-view+json": {
       "model_id": "",
       "version_major": 2,
       "version_minor": 0
      },
      "text/plain": [
       "Validation: |          | 0/? [00:00<?, ?it/s]"
      ]
     },
     "metadata": {},
     "output_type": "display_data"
    },
    {
     "name": "stdout",
     "output_type": "stream",
     "text": [
      "Val - Acc: 0.6115, Loss: 0.9068\n",
      "Train - Acc: 0.5122, Loss: 0.9805\n"
     ]
    },
    {
     "data": {
      "application/vnd.jupyter.widget-view+json": {
       "model_id": "",
       "version_major": 2,
       "version_minor": 0
      },
      "text/plain": [
       "Validation: |          | 0/? [00:00<?, ?it/s]"
      ]
     },
     "metadata": {},
     "output_type": "display_data"
    },
    {
     "name": "stdout",
     "output_type": "stream",
     "text": [
      "Val - Acc: 0.6219, Loss: 0.8505\n",
      "Train - Acc: 0.5735, Loss: 0.9306\n"
     ]
    },
    {
     "data": {
      "application/vnd.jupyter.widget-view+json": {
       "model_id": "",
       "version_major": 2,
       "version_minor": 0
      },
      "text/plain": [
       "Validation: |          | 0/? [00:00<?, ?it/s]"
      ]
     },
     "metadata": {},
     "output_type": "display_data"
    },
    {
     "name": "stdout",
     "output_type": "stream",
     "text": [
      "Val - Acc: 0.6493, Loss: 0.8069\n",
      "Train - Acc: 0.6183, Loss: 0.8759\n"
     ]
    },
    {
     "data": {
      "application/vnd.jupyter.widget-view+json": {
       "model_id": "",
       "version_major": 2,
       "version_minor": 0
      },
      "text/plain": [
       "Validation: |          | 0/? [00:00<?, ?it/s]"
      ]
     },
     "metadata": {},
     "output_type": "display_data"
    },
    {
     "name": "stdout",
     "output_type": "stream",
     "text": [
      "Val - Acc: 0.5936, Loss: 0.8675\n",
      "Train - Acc: 0.6562, Loss: 0.8253\n"
     ]
    },
    {
     "data": {
      "application/vnd.jupyter.widget-view+json": {
       "model_id": "",
       "version_major": 2,
       "version_minor": 0
      },
      "text/plain": [
       "Validation: |          | 0/? [00:00<?, ?it/s]"
      ]
     },
     "metadata": {},
     "output_type": "display_data"
    },
    {
     "name": "stdout",
     "output_type": "stream",
     "text": [
      "Val - Acc: 0.6625, Loss: 0.7900\n",
      "Train - Acc: 0.6727, Loss: 0.7969\n"
     ]
    },
    {
     "data": {
      "application/vnd.jupyter.widget-view+json": {
       "model_id": "",
       "version_major": 2,
       "version_minor": 0
      },
      "text/plain": [
       "Validation: |          | 0/? [00:00<?, ?it/s]"
      ]
     },
     "metadata": {},
     "output_type": "display_data"
    },
    {
     "name": "stdout",
     "output_type": "stream",
     "text": [
      "Val - Acc: 0.6382, Loss: 0.7827\n",
      "Train - Acc: 0.6741, Loss: 0.7840\n"
     ]
    },
    {
     "data": {
      "application/vnd.jupyter.widget-view+json": {
       "model_id": "",
       "version_major": 2,
       "version_minor": 0
      },
      "text/plain": [
       "Validation: |          | 0/? [00:00<?, ?it/s]"
      ]
     },
     "metadata": {},
     "output_type": "display_data"
    },
    {
     "name": "stdout",
     "output_type": "stream",
     "text": [
      "Val - Acc: 0.6758, Loss: 0.7294\n",
      "Train - Acc: 0.7027, Loss: 0.7367\n"
     ]
    },
    {
     "data": {
      "application/vnd.jupyter.widget-view+json": {
       "model_id": "",
       "version_major": 2,
       "version_minor": 0
      },
      "text/plain": [
       "Validation: |          | 0/? [00:00<?, ?it/s]"
      ]
     },
     "metadata": {},
     "output_type": "display_data"
    },
    {
     "name": "stdout",
     "output_type": "stream",
     "text": [
      "Val - Acc: 0.6909, Loss: 0.7026\n",
      "Train - Acc: 0.7233, Loss: 0.7093\n"
     ]
    },
    {
     "data": {
      "application/vnd.jupyter.widget-view+json": {
       "model_id": "",
       "version_major": 2,
       "version_minor": 0
      },
      "text/plain": [
       "Validation: |          | 0/? [00:00<?, ?it/s]"
      ]
     },
     "metadata": {},
     "output_type": "display_data"
    },
    {
     "name": "stdout",
     "output_type": "stream",
     "text": [
      "Val - Acc: 0.6963, Loss: 0.7041\n",
      "Train - Acc: 0.7061, Loss: 0.7222\n"
     ]
    },
    {
     "data": {
      "application/vnd.jupyter.widget-view+json": {
       "model_id": "",
       "version_major": 2,
       "version_minor": 0
      },
      "text/plain": [
       "Validation: |          | 0/? [00:00<?, ?it/s]"
      ]
     },
     "metadata": {},
     "output_type": "display_data"
    },
    {
     "name": "stdout",
     "output_type": "stream",
     "text": [
      "Val - Acc: 0.7339, Loss: 0.6375\n",
      "Train - Acc: 0.7281, Loss: 0.6797\n"
     ]
    },
    {
     "data": {
      "application/vnd.jupyter.widget-view+json": {
       "model_id": "",
       "version_major": 2,
       "version_minor": 0
      },
      "text/plain": [
       "Validation: |          | 0/? [00:00<?, ?it/s]"
      ]
     },
     "metadata": {},
     "output_type": "display_data"
    },
    {
     "name": "stdout",
     "output_type": "stream",
     "text": [
      "Val - Acc: 0.7236, Loss: 0.6455\n",
      "Train - Acc: 0.7540, Loss: 0.6402\n"
     ]
    },
    {
     "data": {
      "application/vnd.jupyter.widget-view+json": {
       "model_id": "",
       "version_major": 2,
       "version_minor": 0
      },
      "text/plain": [
       "Validation: |          | 0/? [00:00<?, ?it/s]"
      ]
     },
     "metadata": {},
     "output_type": "display_data"
    },
    {
     "name": "stdout",
     "output_type": "stream",
     "text": [
      "Val - Acc: 0.7486, Loss: 0.6047\n",
      "Train - Acc: 0.7628, Loss: 0.6190\n"
     ]
    },
    {
     "data": {
      "application/vnd.jupyter.widget-view+json": {
       "model_id": "",
       "version_major": 2,
       "version_minor": 0
      },
      "text/plain": [
       "Validation: |          | 0/? [00:00<?, ?it/s]"
      ]
     },
     "metadata": {},
     "output_type": "display_data"
    },
    {
     "name": "stdout",
     "output_type": "stream",
     "text": [
      "Val - Acc: 0.7450, Loss: 0.6157\n",
      "Train - Acc: 0.7707, Loss: 0.6082\n"
     ]
    },
    {
     "data": {
      "application/vnd.jupyter.widget-view+json": {
       "model_id": "",
       "version_major": 2,
       "version_minor": 0
      },
      "text/plain": [
       "Validation: |          | 0/? [00:00<?, ?it/s]"
      ]
     },
     "metadata": {},
     "output_type": "display_data"
    },
    {
     "name": "stdout",
     "output_type": "stream",
     "text": [
      "Val - Acc: 0.7396, Loss: 0.6473\n",
      "Train - Acc: 0.7766, Loss: 0.5949\n"
     ]
    },
    {
     "data": {
      "application/vnd.jupyter.widget-view+json": {
       "model_id": "",
       "version_major": 2,
       "version_minor": 0
      },
      "text/plain": [
       "Validation: |          | 0/? [00:00<?, ?it/s]"
      ]
     },
     "metadata": {},
     "output_type": "display_data"
    },
    {
     "name": "stdout",
     "output_type": "stream",
     "text": [
      "Val - Acc: 0.7505, Loss: 0.6283\n",
      "Train - Acc: 0.7808, Loss: 0.5887\n"
     ]
    },
    {
     "data": {
      "application/vnd.jupyter.widget-view+json": {
       "model_id": "",
       "version_major": 2,
       "version_minor": 0
      },
      "text/plain": [
       "Validation: |          | 0/? [00:00<?, ?it/s]"
      ]
     },
     "metadata": {},
     "output_type": "display_data"
    },
    {
     "name": "stdout",
     "output_type": "stream",
     "text": [
      "Val - Acc: 0.7586, Loss: 0.5928\n",
      "Train - Acc: 0.7914, Loss: 0.5680\n"
     ]
    }
   ],
   "source": [
    "for dropout in dropout_rates:\n",
    "    print(f\"Training Dropout {dropout}\")\n",
    "    \n",
    "    # Unique logger for each dropout model\n",
    "    logger = TensorBoardLogger(\"tb_logs\", name=f\"lit_bias_model_dropout_{dropout}\")\n",
    "    \n",
    "    # Create and train model\n",
    "    model = LitBiasModel_NoMHA(\n",
    "        embedding_matrix=embedding_matrix,\n",
    "        num_classes=3,\n",
    "        embed_dim=300,\n",
    "        hidd_dim=200,\n",
    "        num_layers=2,\n",
    "        dropout_rate=dropout,\n",
    "        lr=1e-3\n",
    "    )\n",
    "    \n",
    "    trainer = pl.Trainer(\n",
    "        accelerator=\"gpu\",\n",
    "        devices=1,\n",
    "        max_epochs=20,\n",
    "        logger=logger,\n",
    "        log_every_n_steps=10\n",
    "    )\n",
    "    \n",
    "    trainer.fit(model, data_module)"
   ]
  },
  {
   "cell_type": "code",
   "execution_count": null,
   "metadata": {
    "execution": {
     "iopub.execute_input": "2025-02-27T22:13:25.480149Z",
     "iopub.status.busy": "2025-02-27T22:13:25.479807Z",
     "iopub.status.idle": "2025-02-27T22:13:25.485110Z",
     "shell.execute_reply": "2025-02-27T22:13:25.484207Z",
     "shell.execute_reply.started": "2025-02-27T22:13:25.480104Z"
    },
    "trusted": true
   },
   "outputs": [
    {
     "name": "stdout",
     "output_type": "stream",
     "text": [
      "{'acc': [0.38671875, 0.38003009557724, 0.38003009557724, 0.443023681640625, 0.4815720319747925, 0.6115080714225769, 0.621850311756134, 0.6493042707443237, 0.5936442017555237, 0.6624671220779419, 0.638209879398346, 0.6758179664611816, 0.6908612251281738, 0.6963143944740295, 0.73392254114151, 0.7235803008079529, 0.7485896944999695, 0.7450169324874878, 0.7395637631416321, 0.7504701018333435, 0.7585558295249939], 'loss': [1.1003758907318115, 1.0989909172058105, 1.0924298763275146, 1.0641052722930908, 0.9943512678146362, 0.9067971110343933, 0.8504694700241089, 0.8068645000457764, 0.8674587607383728, 0.7900218963623047, 0.7827264666557312, 0.7293792963027954, 0.7025631666183472, 0.7041077613830566, 0.6374555826187134, 0.6455458998680115, 0.6047440767288208, 0.6157321333885193, 0.6473342180252075, 0.6282997131347656, 0.5928281545639038]}\n"
     ]
    }
   ],
   "source": [
    "print(model.val_history)"
   ]
  },
  {
   "cell_type": "code",
   "execution_count": 12,
   "metadata": {
    "execution": {
     "iopub.execute_input": "2025-02-27T22:18:59.731913Z",
     "iopub.status.busy": "2025-02-27T22:18:59.731575Z",
     "iopub.status.idle": "2025-02-27T22:19:00.287939Z",
     "shell.execute_reply": "2025-02-27T22:19:00.287018Z",
     "shell.execute_reply.started": "2025-02-27T22:18:59.731889Z"
    },
    "trusted": true
   },
   "outputs": [
    {
     "data": {
      "image/png": "[encoded data removed]",
      "text/plain": [
       "<Figure size 1400x600 with 2 Axes>"
      ]
     },
     "metadata": {},
     "output_type": "display_data"
    }
   ],
   "source": [
    "import matplotlib.pyplot as plt\n",
    "\n",
    "# Data for dropout 0.5 (20 epochs)\n",
    "epochs_05 = list(range(1, 21))\n",
    "train_acc_05 = [0.3271, 0.3700, 0.4455, 0.5299, 0.6042, 0.6226, 0.6704, 0.6863, 0.7170, 0.7251,\n",
    "                0.7359, 0.7188, 0.7470, 0.7679, 0.7752, 0.7857, 0.7932, 0.8036, 0.8047, 0.8098]\n",
    "val_acc_05   = [0.2824, 0.4143, 0.4831, 0.5967, 0.3394, 0.6484, 0.6544, 0.6978, 0.7044, 0.6557,\n",
    "                0.7262, 0.6986, 0.7381, 0.7317, 0.7450, 0.7394, 0.7518, 0.7516, 0.7535, 0.7281]\n",
    "\n",
    "train_loss_05 = [1.1832, 1.1185, 1.0470, 0.9615, 0.8920, 0.8554, 0.7929, 0.7599, 0.7141, 0.6894,\n",
    "                 0.6652, 0.7165, 0.6489, 0.6103, 0.6017, 0.6146, 0.6090, 0.6051, 0.6427, 0.6420]\n",
    "val_loss_05   = [1.1032, 1.0863, 1.0408, 0.8792, 1.7154, 0.7809, 0.7692, 0.7038, 0.7200, 0.9626,\n",
    "                 0.6418, 0.7427, 0.6235, 0.6190, 0.6017, 0.6146, 0.6090, 0.6051, 0.6427, 0.6420]\n",
    "\n",
    "\n",
    "\n",
    "# Plotting Accuracy for dropout 0.5\n",
    "plt.figure(figsize=(14, 6))\n",
    "\n",
    "plt.subplot(1, 2, 1)\n",
    "plt.plot(epochs_05, train_acc_05, label='Train Accuracy (0.5 dropout)', marker='o')\n",
    "plt.plot(epochs_05, val_acc_05, label='Val Accuracy (0.5 dropout)', marker='o')\n",
    "plt.xlabel(\"Epoch\")\n",
    "plt.ylabel(\"Accuracy\")\n",
    "plt.title(\"Accuracy vs Epochs (Dropout 0.5)\")\n",
    "plt.legend()\n",
    "plt.grid(True)\n",
    "\n",
    "# Plotting Loss for dropout 0.5\n",
    "plt.subplot(1, 2, 2)\n",
    "plt.plot(epochs_05, train_loss_05, label='Train Loss (0.5 dropout)', marker='o')\n",
    "plt.plot(epochs_05, val_loss_05, label='Val Loss (0.5 dropout)', marker='o')\n",
    "plt.xlabel(\"Epoch\")\n",
    "plt.ylabel(\"Loss\")\n",
    "plt.title(\"Loss vs Epochs (Dropout 0.5)\")\n",
    "plt.legend()\n",
    "plt.grid(True)\n",
    "\n",
    "plt.tight_layout()\n",
    "plt.show()\n",
    "\n"
   ]
  },
  {
   "cell_type": "code",
   "execution_count": 13,
   "metadata": {
    "execution": {
     "iopub.execute_input": "2025-02-27T22:19:04.096746Z",
     "iopub.status.busy": "2025-02-27T22:19:04.096421Z",
     "iopub.status.idle": "2025-02-27T22:19:04.627379Z",
     "shell.execute_reply": "2025-02-27T22:19:04.626378Z",
     "shell.execute_reply.started": "2025-02-27T22:19:04.096722Z"
    },
    "trusted": true
   },
   "outputs": [
    {
     "data": {
      "image/png": "[encoded data removed]",
      "text/plain": [
       "<Figure size 1400x600 with 2 Axes>"
      ]
     },
     "metadata": {},
     "output_type": "display_data"
    }
   ],
   "source": [
    "import matplotlib.pyplot as plt\n",
    "\n",
    "# Data for dropout 0.6 (using the actual number of epochs in your data)\n",
    "train_acc_06 = [0.3446, 0.3672, 0.4124, 0.4637, 0.5122, 0.5735, 0.6183, 0.6562, 0.6727, 0.6741,\n",
    "                0.7027, 0.7233, 0.7061, 0.7281, 0.7540, 0.7707, 0.7766, 0.7808, 0.7914]\n",
    "val_acc_06   = [0.3800, 0.3800, 0.4430, 0.4816, 0.6115, 0.6219, 0.6493, 0.5936, 0.6625, 0.6382,\n",
    "                0.6758, 0.6909, 0.6963, 0.7339, 0.7236, 0.7486, 0.7450, 0.7396, 0.7505]\n",
    "train_loss_06 = [1.1819, 1.1331, 1.0789, 1.0265, 0.9805, 0.9306, 0.8759, 0.8253, 0.7969, 0.7840,\n",
    "                 0.7367, 0.7093, 0.7222, 0.6797, 0.6402, 0.6082, 0.5949, 0.5887, 0.5680]\n",
    "val_loss_06   = [1.0990, 1.0924, 1.0641, 0.9944, 0.9068, 0.8505, 0.8069, 0.8675, 0.7900, 0.7827,\n",
    "                 0.7294, 0.7026, 0.7041, 0.6375, 0.6455, 0.6047, 0.6157, 0.6473, 0.6283]\n",
    "\n",
    "# Generate the epoch indices dynamically based on the length of the lists\n",
    "epochs_06 = list(range(1, len(train_acc_06) + 1))\n",
    "\n",
    "plt.figure(figsize=(14, 6))\n",
    "\n",
    "# Plotting Accuracy for dropout 0.6\n",
    "plt.subplot(1, 2, 1)\n",
    "plt.plot(epochs_06, train_acc_06, label='Train Accuracy (0.6 dropout)', marker='o')\n",
    "plt.plot(epochs_06, val_acc_06, label='Val Accuracy (0.6 dropout)', marker='o')\n",
    "plt.xlabel(\"Epoch\")\n",
    "plt.ylabel(\"Accuracy\")\n",
    "plt.title(\"Accuracy vs Epochs (Dropout 0.6)\")\n",
    "plt.legend()\n",
    "plt.grid(True)\n",
    "\n",
    "# Plotting Loss for dropout 0.6\n",
    "plt.subplot(1, 2, 2)\n",
    "plt.plot(epochs_06, train_loss_06, label='Train Loss (0.6 dropout)', marker='o')\n",
    "plt.plot(epochs_06, val_loss_06, label='Val Loss (0.6 dropout)', marker='o')\n",
    "plt.xlabel(\"Epoch\")\n",
    "plt.ylabel(\"Loss\")\n",
    "plt.title(\"Loss vs Epochs (Dropout 0.6)\")\n",
    "plt.legend()\n",
    "plt.grid(True)\n",
    "\n",
    "plt.tight_layout()\n",
    "plt.show()\n"
   ]
  },
  {
   "cell_type": "code",
   "execution_count": null,
   "metadata": {
    "trusted": true
   },
   "outputs": [],
   "source": []
  }
 ],
 "metadata": {
  "kaggle": {
   "accelerator": "nvidiaTeslaT4",
   "dataSources": [
    {
     "datasetId": 6763,
     "sourceId": 9801,
     "sourceType": "datasetVersion"
    },
    {
     "datasetId": 2196935,
     "sourceId": 3670159,
     "sourceType": "datasetVersion"
    }
   ],
   "dockerImageVersionId": 30919,
   "isGpuEnabled": true,
   "isInternetEnabled": true,
   "language": "python",
   "sourceType": "notebook"
  },
  "kernelspec": {
   "display_name": "Python 3",
   "language": "python",
   "name": "python3"
  },
  "language_info": {
   "codemirror_mode": {
    "name": "ipython",
    "version": 3
   },
   "file_extension": ".py",
   "mimetype": "text/x-python",
   "name": "python",
   "nbconvert_exporter": "python",
   "pygments_lexer": "ipython3",
   "version": "3.10.12"
  }
 },
 "nbformat": 4,
 "nbformat_minor": 4
}
