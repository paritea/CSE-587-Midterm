{
 "cells": [
  {
   "cell_type": "markdown",
   "metadata": {},
   "source": [
    "*Dropout Rate Study*\n",
    "\n",
    "We vary the dropout rates as 0.2 and 0.4 in this notebook. We also compare the results obtained here with the results obtained in the other notebook with dropout rate 0.5 and 0.6. "
   ]
  },
  {
   "cell_type": "code",
   "execution_count": null,
   "metadata": {
    "_cell_guid": "b1076dfc-b9ad-4769-8c92-a6c4dae69d19",
    "_uuid": "8f2839f25d086af736a60e9eeb907d3b93b6e0e5",
    "execution": {
     "iopub.execute_input": "2025-02-27T22:36:18.338402Z",
     "iopub.status.busy": "2025-02-27T22:36:18.338123Z",
     "iopub.status.idle": "2025-02-27T22:36:53.586032Z",
     "shell.execute_reply": "2025-02-27T22:36:53.585029Z",
     "shell.execute_reply.started": "2025-02-27T22:36:18.338378Z"
    },
    "trusted": true
   },
   "outputs": [],
   "source": [
    "import re\n",
    "import numpy as np\n",
    "import pandas as pd\n",
    "import matplotlib.pyplot as plt\n",
    "import os \n",
    "\n",
    "import torch\n",
    "from torch import nn\n",
    "from torch.utils.data import Dataset, DataLoader\n",
    "import torchmetrics\n",
    "\n",
    "import pytorch_lightning as pl\n",
    "from pytorch_lightning.loggers import TensorBoardLogger\n",
    "\n",
    "from sklearn.model_selection import train_test_split\n",
    "from tqdm import tqdm\n",
    "\n",
    "from gensim.models import KeyedVectors\n"
   ]
  },
  {
   "cell_type": "code",
   "execution_count": 2,
   "metadata": {
    "execution": {
     "iopub.execute_input": "2025-02-27T22:36:53.587573Z",
     "iopub.status.busy": "2025-02-27T22:36:53.586966Z",
     "iopub.status.idle": "2025-02-27T22:37:23.764799Z",
     "shell.execute_reply": "2025-02-27T22:37:23.763689Z",
     "shell.execute_reply.started": "2025-02-27T22:36:53.587547Z"
    },
    "trusted": true
   },
   "outputs": [
    {
     "data": {
      "text/html": [
       "<div>\n",
       "<style scoped>\n",
       "    .dataframe tbody tr th:only-of-type {\n",
       "        vertical-align: middle;\n",
       "    }\n",
       "\n",
       "    .dataframe tbody tr th {\n",
       "        vertical-align: top;\n",
       "    }\n",
       "\n",
       "    .dataframe thead th {\n",
       "        text-align: right;\n",
       "    }\n",
       "</style>\n",
       "<table border=\"1\" class=\"dataframe\">\n",
       "  <thead>\n",
       "    <tr style=\"text-align: right;\">\n",
       "      <th></th>\n",
       "      <th>Unnamed: 0</th>\n",
       "      <th>topic</th>\n",
       "      <th>source</th>\n",
       "      <th>bias</th>\n",
       "      <th>url</th>\n",
       "      <th>title</th>\n",
       "      <th>date</th>\n",
       "      <th>authors</th>\n",
       "      <th>content</th>\n",
       "      <th>content_original</th>\n",
       "      <th>source_url</th>\n",
       "      <th>bias_text</th>\n",
       "      <th>ID</th>\n",
       "    </tr>\n",
       "  </thead>\n",
       "  <tbody>\n",
       "    <tr>\n",
       "      <th>0</th>\n",
       "      <td>0</td>\n",
       "      <td>immigration</td>\n",
       "      <td>National Review</td>\n",
       "      <td>2</td>\n",
       "      <td>https://www.nationalreview.com/2018/12/governm...</td>\n",
       "      <td>shutdown theater again</td>\n",
       "      <td>2018-12-12</td>\n",
       "      <td>Kevin D. Williamson, Kyle Smith, Andrew C. Mcc...</td>\n",
       "      <td>President Trump and Senate Minority Leader Chu...</td>\n",
       "      <td>president trump and senate minority leader chu...</td>\n",
       "      <td>www.nationalreview.com</td>\n",
       "      <td>right</td>\n",
       "      <td>zl7kc7EmAyIdUMIo</td>\n",
       "    </tr>\n",
       "    <tr>\n",
       "      <th>1</th>\n",
       "      <td>1</td>\n",
       "      <td>culture</td>\n",
       "      <td>Yahoo! The 360</td>\n",
       "      <td>1</td>\n",
       "      <td>https://news.yahoo.com/can-the-developing-worl...</td>\n",
       "      <td>can the developing world endure the coronavirus</td>\n",
       "      <td>2020-06-30</td>\n",
       "      <td>Mike Bebernes</td>\n",
       "      <td>“ The 360 ” shows you diverse perspectives on ...</td>\n",
       "      <td>the 360 shows you diverse perspectives on the ...</td>\n",
       "      <td>www.news.yahoo.com</td>\n",
       "      <td>center</td>\n",
       "      <td>xpbjYTJYPdlw6HmJ</td>\n",
       "    </tr>\n",
       "  </tbody>\n",
       "</table>\n",
       "</div>"
      ],
      "text/plain": [
       "   Unnamed: 0        topic           source  bias  \\\n",
       "0           0  immigration  National Review     2   \n",
       "1           1      culture   Yahoo! The 360     1   \n",
       "\n",
       "                                                 url  \\\n",
       "0  https://www.nationalreview.com/2018/12/governm...   \n",
       "1  https://news.yahoo.com/can-the-developing-worl...   \n",
       "\n",
       "                                             title        date  \\\n",
       "0                           shutdown theater again  2018-12-12   \n",
       "1  can the developing world endure the coronavirus  2020-06-30   \n",
       "\n",
       "                                             authors  \\\n",
       "0  Kevin D. Williamson, Kyle Smith, Andrew C. Mcc...   \n",
       "1                                      Mike Bebernes   \n",
       "\n",
       "                                             content  \\\n",
       "0  President Trump and Senate Minority Leader Chu...   \n",
       "1  “ The 360 ” shows you diverse perspectives on ...   \n",
       "\n",
       "                                    content_original              source_url  \\\n",
       "0  president trump and senate minority leader chu...  www.nationalreview.com   \n",
       "1  the 360 shows you diverse perspectives on the ...      www.news.yahoo.com   \n",
       "\n",
       "  bias_text                ID  \n",
       "0     right  zl7kc7EmAyIdUMIo  \n",
       "1    center  xpbjYTJYPdlw6HmJ  "
      ]
     },
     "execution_count": 2,
     "metadata": {},
     "output_type": "execute_result"
    }
   ],
   "source": [
    "TRAIN_PATH = '/kaggle/input/bias-of-us-news-media-houses/Train.xlsx'\n",
    "\n",
    "def clean_text(text: str) -> str:\n",
    "    \"\"\"Clean the input text by removing URLs, 'RT', special characters, and extra whitespace.\"\"\"\n",
    "    text = re.sub(r\"http\\S+\", \" \", text)  # remove URLs\n",
    "    text = re.sub(r\"RT \", \" \", text)       # remove 'RT'\n",
    "    text = re.sub(r\"[^a-zA-Z\\'\\.\\,\\d\\s]\", \" \", text)  # remove unwanted characters\n",
    "    text = re.sub(r'\\t', ' ', text)\n",
    "    text = re.sub(r'\\n', ' ', text)\n",
    "    text = re.sub(r\"\\s+\", \" \", text)\n",
    "    return text.strip()\n",
    "\n",
    "def load_and_preprocess_data(path: str) -> pd.DataFrame:\n",
    "    df = pd.read_excel(path, engine='openpyxl')\n",
    "    for col in ['content_original', 'title']:\n",
    "        # Use only the first section if split by the delimiter\n",
    "        df[col] = df[col].str.split(' \\n\\n---\\n\\n').str[0]\n",
    "        # Replace dashes and punctuation, then lower the text\n",
    "        df[col] = (df[col]\n",
    "                   .str.replace('-', ' ')\n",
    "                   .str.replace('[^\\w\\s]', '', regex=True)\n",
    "                   .str.replace('\\n', ' ')\n",
    "                   .str.lower())\n",
    "        df[col] = df[col].apply(clean_text)\n",
    "    return df\n",
    "\n",
    "# Load and preview the data\n",
    "df_train = load_and_preprocess_data(TRAIN_PATH)\n",
    "df_train.head(2)\n"
   ]
  },
  {
   "cell_type": "code",
   "execution_count": 3,
   "metadata": {
    "execution": {
     "iopub.execute_input": "2025-02-27T22:37:23.766316Z",
     "iopub.status.busy": "2025-02-27T22:37:23.765787Z",
     "iopub.status.idle": "2025-02-27T22:39:13.798278Z",
     "shell.execute_reply": "2025-02-27T22:39:13.797413Z",
     "shell.execute_reply.started": "2025-02-27T22:37:23.766290Z"
    },
    "trusted": true
   },
   "outputs": [
    {
     "name": "stdout",
     "output_type": "stream",
     "text": [
      "Loading Word2Vec model from binary file (this may take several minutes)...\n",
      "Saving cached version...\n",
      "Word2Vec embeddings loaded: vocab size = 3000001, embedding dim = 300\n"
     ]
    }
   ],
   "source": [
    "# Update the path to your Word2Vec file; for example:\n",
    "word2vec_model_path = '/kaggle/input/googlenewsvectorsnegative300/GoogleNews-vectors-negative300.bin'\n",
    "cached_kv_path = 'word2vec_model.kv'\n",
    "\n",
    "if os.path.exists(cached_kv_path):\n",
    "    print(\"Loading cached Word2Vec model...\")\n",
    "    w2v_model = KeyedVectors.load(cached_kv_path, mmap='r')\n",
    "else:\n",
    "    print(\"Loading Word2Vec model from binary file (this may take several minutes)...\")\n",
    "    w2v_model = KeyedVectors.load_word2vec_format(word2vec_model_path, binary=True)\n",
    "    print(\"Saving cached version...\")\n",
    "    w2v_model.save(cached_kv_path)\n",
    "\n",
    "# Build vocabulary mapping and embedding matrix.\n",
    "# Reserve index 0 for unknown words.\n",
    "UNK_TOKEN = \"<unk>\"\n",
    "UNK_INDEX = 0\n",
    "# Create vocabulary mapping, shifting indices by 1 so that index 0 is reserved for UNK.\n",
    "word2vec_vocab = {word: idx + 1 for word, idx in w2v_model.key_to_index.items()}\n",
    "vocab_size = len(word2vec_vocab) + 1\n",
    "embedding_dim = w2v_model.vector_size  # typically 300\n",
    "\n",
    "# Build the embedding matrix (row 0 will remain zeros for UNK)\n",
    "embedding_matrix = torch.zeros(vocab_size, embedding_dim)\n",
    "for word, idx in word2vec_vocab.items():\n",
    "    embedding_matrix[idx] = torch.tensor(w2v_model[word])\n",
    "    \n",
    "print(f\"Word2Vec embeddings loaded: vocab size = {vocab_size}, embedding dim = {embedding_dim}\")\n"
   ]
  },
  {
   "cell_type": "code",
   "execution_count": 4,
   "metadata": {
    "execution": {
     "iopub.execute_input": "2025-02-27T22:39:13.799520Z",
     "iopub.status.busy": "2025-02-27T22:39:13.799169Z",
     "iopub.status.idle": "2025-02-27T22:39:13.804606Z",
     "shell.execute_reply": "2025-02-27T22:39:13.803655Z",
     "shell.execute_reply.started": "2025-02-27T22:39:13.799489Z"
    },
    "trusted": true
   },
   "outputs": [],
   "source": [
    "def basic_tokenizer(text: str) -> list:\n",
    "    \"\"\"Tokenize text by splitting on whitespace.\"\"\"\n",
    "    return text.split()\n",
    "\n",
    "def tokenize_and_pad(text: str, max_len: int) -> torch.Tensor:\n",
    "    \"\"\"\n",
    "    Tokenizes the input text and converts tokens to indices using the Word2Vec vocabulary.\n",
    "    Unknown tokens are assigned index 0. The sequence is padded or truncated to max_len.\n",
    "    \"\"\"\n",
    "    tokens = basic_tokenizer(text)\n",
    "    indices = [word2vec_vocab.get(token, UNK_INDEX) for token in tokens]\n",
    "    padded = indices[:max_len] + [0] * max(0, max_len - len(indices))\n",
    "    return torch.tensor(padded)\n"
   ]
  },
  {
   "cell_type": "code",
   "execution_count": 5,
   "metadata": {
    "execution": {
     "iopub.execute_input": "2025-02-27T22:39:13.805589Z",
     "iopub.status.busy": "2025-02-27T22:39:13.805370Z",
     "iopub.status.idle": "2025-02-27T22:39:13.894025Z",
     "shell.execute_reply": "2025-02-27T22:39:13.893077Z",
     "shell.execute_reply.started": "2025-02-27T22:39:13.805572Z"
    },
    "trusted": true
   },
   "outputs": [
    {
     "name": "stdout",
     "output_type": "stream",
     "text": [
      "Train shape: (21272, 13) Val shape: (5318, 13)\n"
     ]
    }
   ],
   "source": [
    "class BiasDataset(Dataset):\n",
    "    def __init__(self, data: pd.DataFrame, max_sentence_length: int):\n",
    "        self.data = data.reset_index(drop=True)\n",
    "        self.max_sentence_length = max_sentence_length\n",
    "\n",
    "    def __len__(self) -> int:\n",
    "        return len(self.data)\n",
    "  \n",
    "    def __getitem__(self, index: int) -> dict:\n",
    "        row = self.data.iloc[index]\n",
    "        body = tokenize_and_pad(row['content_original'], self.max_sentence_length)\n",
    "        title = tokenize_and_pad(row['title'], self.max_sentence_length)\n",
    "        # Assuming 'bias' is an integer label\n",
    "        label = torch.tensor(row['bias'], dtype=torch.long)\n",
    "        return {\"body\": body, \"title\": title, \"labels\": label}\n",
    "\n",
    "class BiasDataModule(pl.LightningDataModule):\n",
    "    def __init__(self, train_df: pd.DataFrame, val_df: pd.DataFrame, max_sentence_length: int, batch_size: int):\n",
    "        super().__init__()\n",
    "        self.train_df = train_df\n",
    "        self.val_df = val_df\n",
    "        self.max_sentence_length = max_sentence_length\n",
    "        self.batch_size = batch_size\n",
    "\n",
    "    def setup(self, stage=None):\n",
    "        self.train_dataset = BiasDataset(self.train_df, self.max_sentence_length)\n",
    "        self.val_dataset = BiasDataset(self.val_df, self.max_sentence_length)\n",
    "\n",
    "    def train_dataloader(self):\n",
    "        return DataLoader(self.train_dataset, batch_size=self.batch_size,\n",
    "                          shuffle=True, num_workers=4, drop_last=True)\n",
    "\n",
    "    def val_dataloader(self):\n",
    "        return DataLoader(self.val_dataset, batch_size=self.batch_size,\n",
    "                          shuffle=False, num_workers=4, drop_last=False)\n",
    "\n",
    "# Split the dataset (e.g., 80% train, 20% validation)\n",
    "train_df, val_df = train_test_split(df_train, test_size=0.2, random_state=42)\n",
    "print(\"Train shape:\", train_df.shape, \"Val shape:\", val_df.shape)\n",
    "\n",
    "BATCH_SIZE = 1024\n",
    "MAX_LEN = 120  # Adjust based on your text lengths\n",
    "data_module = BiasDataModule(train_df, val_df, max_sentence_length=MAX_LEN, batch_size=BATCH_SIZE)\n",
    "data_module.setup()\n"
   ]
  },
  {
   "cell_type": "code",
   "execution_count": 6,
   "metadata": {
    "execution": {
     "iopub.execute_input": "2025-02-27T22:39:13.896709Z",
     "iopub.status.busy": "2025-02-27T22:39:13.896442Z",
     "iopub.status.idle": "2025-02-27T22:39:13.954589Z",
     "shell.execute_reply": "2025-02-27T22:39:13.953634Z",
     "shell.execute_reply.started": "2025-02-27T22:39:13.896679Z"
    },
    "trusted": true
   },
   "outputs": [],
   "source": [
    "import pytorch_lightning as pl\n",
    "import torch\n",
    "import torch.nn as nn\n",
    "import torchmetrics\n",
    "\n",
    "class LitBiasModel_NoMHA(pl.LightningModule):\n",
    "    def __init__(self, embedding_matrix: torch.Tensor, num_classes: int,\n",
    "                 embed_dim: int, hidd_dim: int, num_layers: int = 2, \n",
    "                 dropout_rate: float = 0.4, lr: float = 1e-3):\n",
    "        super().__init__()\n",
    "        self.save_hyperparameters(ignore=[\"embedding_matrix\"])\n",
    "        \n",
    "        # Frozen embedding layer using pretrained Word2Vec embeddings\n",
    "        self.embedding = nn.Embedding.from_pretrained(embedding_matrix, freeze=True)\n",
    "        \n",
    "        # Shared bidirectional LSTM layer with dropout\n",
    "        self.bilstm = nn.LSTM(\n",
    "            input_size=embed_dim,\n",
    "            hidden_size=hidd_dim,\n",
    "            num_layers=num_layers,\n",
    "            batch_first=True,\n",
    "            dropout=dropout_rate,\n",
    "            bidirectional=True\n",
    "        )\n",
    "        \n",
    "        # Classification head (feedforward network) with dropout\n",
    "        self.classifier = nn.Sequential(\n",
    "            nn.Dropout(dropout_rate),\n",
    "            nn.ReLU(),\n",
    "            nn.Linear(hidd_dim, 64),\n",
    "            nn.BatchNorm1d(64),\n",
    "            nn.Dropout(dropout_rate),\n",
    "            nn.ReLU(),\n",
    "            nn.Linear(64, 32),\n",
    "            nn.BatchNorm1d(32),\n",
    "            nn.Dropout(dropout_rate),\n",
    "            nn.ReLU(),\n",
    "            nn.Linear(32, num_classes)\n",
    "        )\n",
    "        \n",
    "        self.loss_fn = nn.CrossEntropyLoss()\n",
    "        self.train_acc = torchmetrics.Accuracy(num_classes=num_classes, task=\"multiclass\")\n",
    "        self.val_acc = torchmetrics.Accuracy(num_classes=num_classes, task=\"multiclass\")\n",
    "        self._train_losses = []\n",
    "        self._val_losses = []\n",
    "        self.train_history = {\"acc\": [], \"loss\": []}\n",
    "        self.val_history = {\"acc\": [], \"loss\": []}\n",
    "\n",
    "    def forward(self, title: torch.Tensor, body: torch.Tensor) -> torch.Tensor:\n",
    "        # Obtain embeddings\n",
    "        title_embed = self.embedding(title)\n",
    "        body_embed = self.embedding(body)\n",
    "        \n",
    "        # Shared bidirectional LSTM for title and body separately\n",
    "        _, (title_hidden, _) = self.bilstm(title_embed)\n",
    "        _, (body_hidden, _) = self.bilstm(body_embed)\n",
    "        \n",
    "        # Aggregate hidden states by mean pooling over layers\n",
    "        title_repr = title_hidden.permute(1, 0, 2).mean(dim=1)\n",
    "        body_repr = body_hidden.permute(1, 0, 2).mean(dim=1)\n",
    "        \n",
    "        # Fuse the representations\n",
    "        aggregated = (title_repr + body_repr) / 2\n",
    "        \n",
    "        logits = self.classifier(aggregated)\n",
    "        return logits\n",
    "\n",
    "    def training_step(self, batch, batch_idx):\n",
    "        logits = self.forward(batch[\"title\"], batch[\"body\"])\n",
    "        loss = self.loss_fn(logits, batch[\"labels\"])\n",
    "        self._train_losses.append(loss)\n",
    "        self.train_acc.update(logits, batch[\"labels\"])\n",
    "        self.log(\"train_loss\", loss, prog_bar=True)\n",
    "        return loss\n",
    "\n",
    "    def validation_step(self, batch, batch_idx):\n",
    "        logits = self.forward(batch[\"title\"], batch[\"body\"])\n",
    "        loss = self.loss_fn(logits, batch[\"labels\"])\n",
    "        self._val_losses.append(loss)\n",
    "        self.val_acc.update(logits, batch[\"labels\"])\n",
    "        self.log(\"val_loss\", loss, prog_bar=True)\n",
    "        return loss\n",
    "\n",
    "    def on_train_epoch_end(self):\n",
    "        avg_loss = torch.stack(self._train_losses).mean() if self._train_losses else torch.tensor(0.0, device=self.device)\n",
    "        train_acc = self.train_acc.compute()\n",
    "        self.train_history[\"loss\"].append(avg_loss.item())\n",
    "        self.train_history[\"acc\"].append(train_acc.item())\n",
    "        self.log_dict({\"Epoch_Train_Loss\": avg_loss, \"Epoch_Train_Acc\": train_acc}, prog_bar=True)\n",
    "        print(f\"Train - Acc: {train_acc:.4f}, Loss: {avg_loss:.4f}\")\n",
    "        self.train_acc.reset()\n",
    "        self._train_losses.clear()\n",
    "\n",
    "    def on_validation_epoch_end(self):\n",
    "        avg_loss = torch.stack(self._val_losses).mean() if self._val_losses else torch.tensor(0.0, device=self.device)\n",
    "        val_acc = self.val_acc.compute()\n",
    "        self.val_history[\"loss\"].append(avg_loss.item())\n",
    "        self.val_history[\"acc\"].append(val_acc.item())\n",
    "        self.log_dict({\"Epoch_Val_Loss\": avg_loss, \"Epoch_Val_Acc\": val_acc}, prog_bar=True)\n",
    "        print(f\"Val - Acc: {val_acc:.4f}, Loss: {avg_loss:.4f}\")\n",
    "        self.val_acc.reset()\n",
    "        self._val_losses.clear()\n",
    "\n",
    "    def configure_optimizers(self):\n",
    "        return torch.optim.AdamW(self.parameters(), lr=self.hparams.lr)\n",
    "\n",
    "dropout_rates = [0.2, 0.4]  # Experiment with different dropouts\n",
    "\n",
    "\n",
    "\n"
   ]
  },
  {
   "cell_type": "code",
   "execution_count": 7,
   "metadata": {
    "execution": {
     "iopub.execute_input": "2025-02-27T22:39:13.955992Z",
     "iopub.status.busy": "2025-02-27T22:39:13.955752Z",
     "iopub.status.idle": "2025-02-27T23:20:15.163742Z",
     "shell.execute_reply": "2025-02-27T23:20:15.162553Z",
     "shell.execute_reply.started": "2025-02-27T22:39:13.955972Z"
    },
    "trusted": true
   },
   "outputs": [
    {
     "name": "stdout",
     "output_type": "stream",
     "text": [
      "Training Dropout 0.2\n"
     ]
    },
    {
     "data": {
      "application/vnd.jupyter.widget-view+json": {
       "model_id": "",
       "version_major": 2,
       "version_minor": 0
      },
      "text/plain": [
       "Sanity Checking: |          | 0/? [00:00<?, ?it/s]"
      ]
     },
     "metadata": {},
     "output_type": "display_data"
    },
    {
     "name": "stdout",
     "output_type": "stream",
     "text": [
      "Val - Acc: 0.3867, Loss: 1.0954\n"
     ]
    },
    {
     "data": {
      "application/vnd.jupyter.widget-view+json": {
       "model_id": "1886e109eca84e8a8e8750ec65caa936",
       "version_major": 2,
       "version_minor": 0
      },
      "text/plain": [
       "Training: |          | 0/? [00:00<?, ?it/s]"
      ]
     },
     "metadata": {},
     "output_type": "display_data"
    },
    {
     "data": {
      "application/vnd.jupyter.widget-view+json": {
       "model_id": "",
       "version_major": 2,
       "version_minor": 0
      },
      "text/plain": [
       "Validation: |          | 0/? [00:00<?, ?it/s]"
      ]
     },
     "metadata": {},
     "output_type": "display_data"
    },
    {
     "name": "stdout",
     "output_type": "stream",
     "text": [
      "Val - Acc: 0.3375, Loss: 1.0966\n",
      "Train - Acc: 0.4186, Loss: 1.0608\n"
     ]
    },
    {
     "data": {
      "application/vnd.jupyter.widget-view+json": {
       "model_id": "",
       "version_major": 2,
       "version_minor": 0
      },
      "text/plain": [
       "Validation: |          | 0/? [00:00<?, ?it/s]"
      ]
     },
     "metadata": {},
     "output_type": "display_data"
    },
    {
     "name": "stdout",
     "output_type": "stream",
     "text": [
      "Val - Acc: 0.3387, Loss: 1.0704\n",
      "Train - Acc: 0.5584, Loss: 0.9317\n"
     ]
    },
    {
     "data": {
      "application/vnd.jupyter.widget-view+json": {
       "model_id": "",
       "version_major": 2,
       "version_minor": 0
      },
      "text/plain": [
       "Validation: |          | 0/? [00:00<?, ?it/s]"
      ]
     },
     "metadata": {},
     "output_type": "display_data"
    },
    {
     "name": "stdout",
     "output_type": "stream",
     "text": [
      "Val - Acc: 0.5378, Loss: 0.9772\n",
      "Train - Acc: 0.6594, Loss: 0.8012\n"
     ]
    },
    {
     "data": {
      "application/vnd.jupyter.widget-view+json": {
       "model_id": "",
       "version_major": 2,
       "version_minor": 0
      },
      "text/plain": [
       "Validation: |          | 0/? [00:00<?, ?it/s]"
      ]
     },
     "metadata": {},
     "output_type": "display_data"
    },
    {
     "name": "stdout",
     "output_type": "stream",
     "text": [
      "Val - Acc: 0.5897, Loss: 0.9158\n",
      "Train - Acc: 0.6828, Loss: 0.7492\n"
     ]
    },
    {
     "data": {
      "application/vnd.jupyter.widget-view+json": {
       "model_id": "",
       "version_major": 2,
       "version_minor": 0
      },
      "text/plain": [
       "Validation: |          | 0/? [00:00<?, ?it/s]"
      ]
     },
     "metadata": {},
     "output_type": "display_data"
    },
    {
     "name": "stdout",
     "output_type": "stream",
     "text": [
      "Val - Acc: 0.5809, Loss: 1.1888\n",
      "Train - Acc: 0.6929, Loss: 0.7199\n"
     ]
    },
    {
     "data": {
      "application/vnd.jupyter.widget-view+json": {
       "model_id": "",
       "version_major": 2,
       "version_minor": 0
      },
      "text/plain": [
       "Validation: |          | 0/? [00:00<?, ?it/s]"
      ]
     },
     "metadata": {},
     "output_type": "display_data"
    },
    {
     "name": "stdout",
     "output_type": "stream",
     "text": [
      "Val - Acc: 0.6100, Loss: 0.8148\n",
      "Train - Acc: 0.7165, Loss: 0.6787\n"
     ]
    },
    {
     "data": {
      "application/vnd.jupyter.widget-view+json": {
       "model_id": "",
       "version_major": 2,
       "version_minor": 0
      },
      "text/plain": [
       "Validation: |          | 0/? [00:00<?, ?it/s]"
      ]
     },
     "metadata": {},
     "output_type": "display_data"
    },
    {
     "name": "stdout",
     "output_type": "stream",
     "text": [
      "Val - Acc: 0.6877, Loss: 0.7316\n",
      "Train - Acc: 0.7432, Loss: 0.6318\n"
     ]
    },
    {
     "data": {
      "application/vnd.jupyter.widget-view+json": {
       "model_id": "",
       "version_major": 2,
       "version_minor": 0
      },
      "text/plain": [
       "Validation: |          | 0/? [00:00<?, ?it/s]"
      ]
     },
     "metadata": {},
     "output_type": "display_data"
    },
    {
     "name": "stdout",
     "output_type": "stream",
     "text": [
      "Val - Acc: 0.6918, Loss: 0.6915\n",
      "Train - Acc: 0.7519, Loss: 0.6109\n"
     ]
    },
    {
     "data": {
      "application/vnd.jupyter.widget-view+json": {
       "model_id": "",
       "version_major": 2,
       "version_minor": 0
      },
      "text/plain": [
       "Validation: |          | 0/? [00:00<?, ?it/s]"
      ]
     },
     "metadata": {},
     "output_type": "display_data"
    },
    {
     "name": "stdout",
     "output_type": "stream",
     "text": [
      "Val - Acc: 0.7275, Loss: 0.6524\n",
      "Train - Acc: 0.7652, Loss: 0.5815\n"
     ]
    },
    {
     "data": {
      "application/vnd.jupyter.widget-view+json": {
       "model_id": "",
       "version_major": 2,
       "version_minor": 0
      },
      "text/plain": [
       "Validation: |          | 0/? [00:00<?, ?it/s]"
      ]
     },
     "metadata": {},
     "output_type": "display_data"
    },
    {
     "name": "stdout",
     "output_type": "stream",
     "text": [
      "Val - Acc: 0.6952, Loss: 0.8128\n",
      "Train - Acc: 0.7867, Loss: 0.5424\n"
     ]
    },
    {
     "data": {
      "application/vnd.jupyter.widget-view+json": {
       "model_id": "",
       "version_major": 2,
       "version_minor": 0
      },
      "text/plain": [
       "Validation: |          | 0/? [00:00<?, ?it/s]"
      ]
     },
     "metadata": {},
     "output_type": "display_data"
    },
    {
     "name": "stdout",
     "output_type": "stream",
     "text": [
      "Val - Acc: 0.7215, Loss: 0.6391\n",
      "Train - Acc: 0.7743, Loss: 0.5590\n"
     ]
    },
    {
     "data": {
      "application/vnd.jupyter.widget-view+json": {
       "model_id": "",
       "version_major": 2,
       "version_minor": 0
      },
      "text/plain": [
       "Validation: |          | 0/? [00:00<?, ?it/s]"
      ]
     },
     "metadata": {},
     "output_type": "display_data"
    },
    {
     "name": "stdout",
     "output_type": "stream",
     "text": [
      "Val - Acc: 0.6296, Loss: 0.7953\n",
      "Train - Acc: 0.7986, Loss: 0.5091\n"
     ]
    },
    {
     "data": {
      "application/vnd.jupyter.widget-view+json": {
       "model_id": "",
       "version_major": 2,
       "version_minor": 0
      },
      "text/plain": [
       "Validation: |          | 0/? [00:00<?, ?it/s]"
      ]
     },
     "metadata": {},
     "output_type": "display_data"
    },
    {
     "name": "stdout",
     "output_type": "stream",
     "text": [
      "Val - Acc: 0.7503, Loss: 0.6466\n",
      "Train - Acc: 0.8004, Loss: 0.5049\n"
     ]
    },
    {
     "data": {
      "application/vnd.jupyter.widget-view+json": {
       "model_id": "",
       "version_major": 2,
       "version_minor": 0
      },
      "text/plain": [
       "Validation: |          | 0/? [00:00<?, ?it/s]"
      ]
     },
     "metadata": {},
     "output_type": "display_data"
    },
    {
     "name": "stdout",
     "output_type": "stream",
     "text": [
      "Val - Acc: 0.6839, Loss: 0.7314\n",
      "Train - Acc: 0.8264, Loss: 0.4599\n"
     ]
    },
    {
     "data": {
      "application/vnd.jupyter.widget-view+json": {
       "model_id": "",
       "version_major": 2,
       "version_minor": 0
      },
      "text/plain": [
       "Validation: |          | 0/? [00:00<?, ?it/s]"
      ]
     },
     "metadata": {},
     "output_type": "display_data"
    },
    {
     "name": "stdout",
     "output_type": "stream",
     "text": [
      "Val - Acc: 0.7623, Loss: 0.6111\n",
      "Train - Acc: 0.8368, Loss: 0.4271\n"
     ]
    },
    {
     "data": {
      "application/vnd.jupyter.widget-view+json": {
       "model_id": "",
       "version_major": 2,
       "version_minor": 0
      },
      "text/plain": [
       "Validation: |          | 0/? [00:00<?, ?it/s]"
      ]
     },
     "metadata": {},
     "output_type": "display_data"
    },
    {
     "name": "stdout",
     "output_type": "stream",
     "text": [
      "Val - Acc: 0.7567, Loss: 0.6387\n",
      "Train - Acc: 0.8500, Loss: 0.3987\n"
     ]
    },
    {
     "data": {
      "application/vnd.jupyter.widget-view+json": {
       "model_id": "",
       "version_major": 2,
       "version_minor": 0
      },
      "text/plain": [
       "Validation: |          | 0/? [00:00<?, ?it/s]"
      ]
     },
     "metadata": {},
     "output_type": "display_data"
    },
    {
     "name": "stdout",
     "output_type": "stream",
     "text": [
      "Val - Acc: 0.7512, Loss: 0.6327\n",
      "Train - Acc: 0.8629, Loss: 0.3693\n"
     ]
    },
    {
     "data": {
      "application/vnd.jupyter.widget-view+json": {
       "model_id": "",
       "version_major": 2,
       "version_minor": 0
      },
      "text/plain": [
       "Validation: |          | 0/? [00:00<?, ?it/s]"
      ]
     },
     "metadata": {},
     "output_type": "display_data"
    },
    {
     "name": "stdout",
     "output_type": "stream",
     "text": [
      "Val - Acc: 0.7499, Loss: 0.7452\n",
      "Train - Acc: 0.8726, Loss: 0.3470\n"
     ]
    },
    {
     "data": {
      "application/vnd.jupyter.widget-view+json": {
       "model_id": "",
       "version_major": 2,
       "version_minor": 0
      },
      "text/plain": [
       "Validation: |          | 0/? [00:00<?, ?it/s]"
      ]
     },
     "metadata": {},
     "output_type": "display_data"
    },
    {
     "name": "stdout",
     "output_type": "stream",
     "text": [
      "Val - Acc: 0.7567, Loss: 0.6892\n",
      "Train - Acc: 0.8893, Loss: 0.3082\n"
     ]
    },
    {
     "data": {
      "application/vnd.jupyter.widget-view+json": {
       "model_id": "",
       "version_major": 2,
       "version_minor": 0
      },
      "text/plain": [
       "Validation: |          | 0/? [00:00<?, ?it/s]"
      ]
     },
     "metadata": {},
     "output_type": "display_data"
    },
    {
     "name": "stdout",
     "output_type": "stream",
     "text": [
      "Val - Acc: 0.7593, Loss: 0.6628\n",
      "Train - Acc: 0.8972, Loss: 0.2886\n",
      "Training Dropout 0.4\n"
     ]
    },
    {
     "data": {
      "application/vnd.jupyter.widget-view+json": {
       "model_id": "",
       "version_major": 2,
       "version_minor": 0
      },
      "text/plain": [
       "Sanity Checking: |          | 0/? [00:00<?, ?it/s]"
      ]
     },
     "metadata": {},
     "output_type": "display_data"
    },
    {
     "name": "stdout",
     "output_type": "stream",
     "text": [
      "Val - Acc: 0.2852, Loss: 1.1011\n"
     ]
    },
    {
     "data": {
      "application/vnd.jupyter.widget-view+json": {
       "model_id": "7aa187fb7c0a4a768bb44ae7d4d36f9a",
       "version_major": 2,
       "version_minor": 0
      },
      "text/plain": [
       "Training: |          | 0/? [00:00<?, ?it/s]"
      ]
     },
     "metadata": {},
     "output_type": "display_data"
    },
    {
     "data": {
      "application/vnd.jupyter.widget-view+json": {
       "model_id": "",
       "version_major": 2,
       "version_minor": 0
      },
      "text/plain": [
       "Validation: |          | 0/? [00:00<?, ?it/s]"
      ]
     },
     "metadata": {},
     "output_type": "display_data"
    },
    {
     "name": "stdout",
     "output_type": "stream",
     "text": [
      "Val - Acc: 0.3800, Loss: 1.0957\n",
      "Train - Acc: 0.3679, Loss: 1.1450\n"
     ]
    },
    {
     "data": {
      "application/vnd.jupyter.widget-view+json": {
       "model_id": "",
       "version_major": 2,
       "version_minor": 0
      },
      "text/plain": [
       "Validation: |          | 0/? [00:00<?, ?it/s]"
      ]
     },
     "metadata": {},
     "output_type": "display_data"
    },
    {
     "name": "stdout",
     "output_type": "stream",
     "text": [
      "Val - Acc: 0.3859, Loss: 1.0778\n",
      "Train - Acc: 0.4731, Loss: 1.0255\n"
     ]
    },
    {
     "data": {
      "application/vnd.jupyter.widget-view+json": {
       "model_id": "ee75af1a68b748189a4c4d278449123f",
       "version_major": 2,
       "version_minor": 0
      },
      "text/plain": [
       "Validation: |          | 0/? [00:00<?, ?it/s]"
      ]
     },
     "metadata": {},
     "output_type": "display_data"
    },
    {
     "name": "stdout",
     "output_type": "stream",
     "text": [
      "Val - Acc: 0.5876, Loss: 0.9825\n",
      "Train - Acc: 0.5905, Loss: 0.8933\n"
     ]
    },
    {
     "data": {
      "application/vnd.jupyter.widget-view+json": {
       "model_id": "6245c950e0054c05b59315248681557c",
       "version_major": 2,
       "version_minor": 0
      },
      "text/plain": [
       "Validation: |          | 0/? [00:00<?, ?it/s]"
      ]
     },
     "metadata": {},
     "output_type": "display_data"
    },
    {
     "name": "stdout",
     "output_type": "stream",
     "text": [
      "Val - Acc: 0.6486, Loss: 0.8102\n",
      "Train - Acc: 0.6410, Loss: 0.8208\n"
     ]
    },
    {
     "data": {
      "application/vnd.jupyter.widget-view+json": {
       "model_id": "26bbf48a4f7e41d8beee32025d4ab69f",
       "version_major": 2,
       "version_minor": 0
      },
      "text/plain": [
       "Validation: |          | 0/? [00:00<?, ?it/s]"
      ]
     },
     "metadata": {},
     "output_type": "display_data"
    },
    {
     "name": "stdout",
     "output_type": "stream",
     "text": [
      "Val - Acc: 0.6645, Loss: 0.7667\n",
      "Train - Acc: 0.6739, Loss: 0.7686\n"
     ]
    },
    {
     "data": {
      "application/vnd.jupyter.widget-view+json": {
       "model_id": "5141dfad50724cbca4d32e69f3b2e0cf",
       "version_major": 2,
       "version_minor": 0
      },
      "text/plain": [
       "Validation: |          | 0/? [00:00<?, ?it/s]"
      ]
     },
     "metadata": {},
     "output_type": "display_data"
    },
    {
     "name": "stdout",
     "output_type": "stream",
     "text": [
      "Val - Acc: 0.6467, Loss: 0.8501\n",
      "Train - Acc: 0.6807, Loss: 0.7568\n"
     ]
    },
    {
     "data": {
      "application/vnd.jupyter.widget-view+json": {
       "model_id": "8e75ab6dc80d45739d3689237ea53a28",
       "version_major": 2,
       "version_minor": 0
      },
      "text/plain": [
       "Validation: |          | 0/? [00:00<?, ?it/s]"
      ]
     },
     "metadata": {},
     "output_type": "display_data"
    },
    {
     "name": "stdout",
     "output_type": "stream",
     "text": [
      "Val - Acc: 0.6707, Loss: 0.7401\n",
      "Train - Acc: 0.6912, Loss: 0.7329\n"
     ]
    },
    {
     "data": {
      "application/vnd.jupyter.widget-view+json": {
       "model_id": "",
       "version_major": 2,
       "version_minor": 0
      },
      "text/plain": [
       "Validation: |          | 0/? [00:00<?, ?it/s]"
      ]
     },
     "metadata": {},
     "output_type": "display_data"
    },
    {
     "name": "stdout",
     "output_type": "stream",
     "text": [
      "Val - Acc: 0.6316, Loss: 0.8579\n",
      "Train - Acc: 0.7226, Loss: 0.6830\n"
     ]
    },
    {
     "data": {
      "application/vnd.jupyter.widget-view+json": {
       "model_id": "",
       "version_major": 2,
       "version_minor": 0
      },
      "text/plain": [
       "Validation: |          | 0/? [00:00<?, ?it/s]"
      ]
     },
     "metadata": {},
     "output_type": "display_data"
    },
    {
     "name": "stdout",
     "output_type": "stream",
     "text": [
      "Val - Acc: 0.6196, Loss: 0.8033\n",
      "Train - Acc: 0.6740, Loss: 0.7591\n"
     ]
    },
    {
     "data": {
      "application/vnd.jupyter.widget-view+json": {
       "model_id": "",
       "version_major": 2,
       "version_minor": 0
      },
      "text/plain": [
       "Validation: |          | 0/? [00:00<?, ?it/s]"
      ]
     },
     "metadata": {},
     "output_type": "display_data"
    },
    {
     "name": "stdout",
     "output_type": "stream",
     "text": [
      "Val - Acc: 0.7102, Loss: 0.6790\n",
      "Train - Acc: 0.7211, Loss: 0.6842\n"
     ]
    },
    {
     "data": {
      "application/vnd.jupyter.widget-view+json": {
       "model_id": "",
       "version_major": 2,
       "version_minor": 0
      },
      "text/plain": [
       "Validation: |          | 0/? [00:00<?, ?it/s]"
      ]
     },
     "metadata": {},
     "output_type": "display_data"
    },
    {
     "name": "stdout",
     "output_type": "stream",
     "text": [
      "Val - Acc: 0.6939, Loss: 0.7822\n",
      "Train - Acc: 0.7493, Loss: 0.6281\n"
     ]
    },
    {
     "data": {
      "application/vnd.jupyter.widget-view+json": {
       "model_id": "",
       "version_major": 2,
       "version_minor": 0
      },
      "text/plain": [
       "Validation: |          | 0/? [00:00<?, ?it/s]"
      ]
     },
     "metadata": {},
     "output_type": "display_data"
    },
    {
     "name": "stdout",
     "output_type": "stream",
     "text": [
      "Val - Acc: 0.7290, Loss: 0.6744\n",
      "Train - Acc: 0.7671, Loss: 0.6012\n"
     ]
    },
    {
     "data": {
      "application/vnd.jupyter.widget-view+json": {
       "model_id": "",
       "version_major": 2,
       "version_minor": 0
      },
      "text/plain": [
       "Validation: |          | 0/? [00:00<?, ?it/s]"
      ]
     },
     "metadata": {},
     "output_type": "display_data"
    },
    {
     "name": "stdout",
     "output_type": "stream",
     "text": [
      "Val - Acc: 0.7413, Loss: 0.6105\n",
      "Train - Acc: 0.7604, Loss: 0.5987\n"
     ]
    },
    {
     "data": {
      "application/vnd.jupyter.widget-view+json": {
       "model_id": "",
       "version_major": 2,
       "version_minor": 0
      },
      "text/plain": [
       "Validation: |          | 0/? [00:00<?, ?it/s]"
      ]
     },
     "metadata": {},
     "output_type": "display_data"
    },
    {
     "name": "stdout",
     "output_type": "stream",
     "text": [
      "Val - Acc: 0.7221, Loss: 0.6566\n",
      "Train - Acc: 0.7771, Loss: 0.5744\n"
     ]
    },
    {
     "data": {
      "application/vnd.jupyter.widget-view+json": {
       "model_id": "",
       "version_major": 2,
       "version_minor": 0
      },
      "text/plain": [
       "Validation: |          | 0/? [00:00<?, ?it/s]"
      ]
     },
     "metadata": {},
     "output_type": "display_data"
    },
    {
     "name": "stdout",
     "output_type": "stream",
     "text": [
      "Val - Acc: 0.7405, Loss: 0.6421\n",
      "Train - Acc: 0.7902, Loss: 0.5448\n"
     ]
    },
    {
     "data": {
      "application/vnd.jupyter.widget-view+json": {
       "model_id": "",
       "version_major": 2,
       "version_minor": 0
      },
      "text/plain": [
       "Validation: |          | 0/? [00:00<?, ?it/s]"
      ]
     },
     "metadata": {},
     "output_type": "display_data"
    },
    {
     "name": "stdout",
     "output_type": "stream",
     "text": [
      "Val - Acc: 0.7478, Loss: 0.5982\n",
      "Train - Acc: 0.7993, Loss: 0.5218\n"
     ]
    },
    {
     "data": {
      "application/vnd.jupyter.widget-view+json": {
       "model_id": "",
       "version_major": 2,
       "version_minor": 0
      },
      "text/plain": [
       "Validation: |          | 0/? [00:00<?, ?it/s]"
      ]
     },
     "metadata": {},
     "output_type": "display_data"
    },
    {
     "name": "stdout",
     "output_type": "stream",
     "text": [
      "Val - Acc: 0.7518, Loss: 0.5876\n",
      "Train - Acc: 0.8113, Loss: 0.5019\n"
     ]
    },
    {
     "data": {
      "application/vnd.jupyter.widget-view+json": {
       "model_id": "",
       "version_major": 2,
       "version_minor": 0
      },
      "text/plain": [
       "Validation: |          | 0/? [00:00<?, ?it/s]"
      ]
     },
     "metadata": {},
     "output_type": "display_data"
    },
    {
     "name": "stdout",
     "output_type": "stream",
     "text": [
      "Val - Acc: 0.7533, Loss: 0.6051\n",
      "Train - Acc: 0.8166, Loss: 0.4872\n"
     ]
    },
    {
     "data": {
      "application/vnd.jupyter.widget-view+json": {
       "model_id": "",
       "version_major": 2,
       "version_minor": 0
      },
      "text/plain": [
       "Validation: |          | 0/? [00:00<?, ?it/s]"
      ]
     },
     "metadata": {},
     "output_type": "display_data"
    },
    {
     "name": "stdout",
     "output_type": "stream",
     "text": [
      "Val - Acc: 0.7525, Loss: 0.6055\n",
      "Train - Acc: 0.8214, Loss: 0.4777\n"
     ]
    },
    {
     "data": {
      "application/vnd.jupyter.widget-view+json": {
       "model_id": "",
       "version_major": 2,
       "version_minor": 0
      },
      "text/plain": [
       "Validation: |          | 0/? [00:00<?, ?it/s]"
      ]
     },
     "metadata": {},
     "output_type": "display_data"
    },
    {
     "name": "stdout",
     "output_type": "stream",
     "text": [
      "Val - Acc: 0.7644, Loss: 0.5899\n",
      "Train - Acc: 0.8318, Loss: 0.4539\n"
     ]
    }
   ],
   "source": [
    "train = []\n",
    "val = []\n",
    "\n",
    "for dropout in dropout_rates:\n",
    "    print(f\"Training Dropout {dropout}\")\n",
    "    \n",
    "    # Unique logger for each dropout model\n",
    "    logger = TensorBoardLogger(\"tb_logs\", name=f\"lit_bias_model_dropout_{dropout}\")\n",
    "    \n",
    "    # Create and train model\n",
    "    model = LitBiasModel_NoMHA(\n",
    "        embedding_matrix=embedding_matrix,\n",
    "        num_classes=3,\n",
    "        embed_dim=300,\n",
    "        hidd_dim=200,\n",
    "        num_layers=2,\n",
    "        dropout_rate=dropout,\n",
    "        lr=1e-3\n",
    "    )\n",
    "    \n",
    "    trainer = pl.Trainer(\n",
    "        accelerator=\"gpu\",\n",
    "        devices=1,\n",
    "        max_epochs=20,\n",
    "        logger=logger,\n",
    "        log_every_n_steps=10\n",
    "    )\n",
    "    trainer.fit(model, data_module)\n",
    "    \n",
    "    train.append(model.train_history)\n",
    "    val.append(model.val_history)\n",
    "    "
   ]
  },
  {
   "cell_type": "code",
   "execution_count": 19,
   "metadata": {
    "execution": {
     "iopub.execute_input": "2025-02-28T00:51:09.921050Z",
     "iopub.status.busy": "2025-02-28T00:51:09.920662Z",
     "iopub.status.idle": "2025-02-28T00:51:10.641081Z",
     "shell.execute_reply": "2025-02-28T00:51:10.640167Z",
     "shell.execute_reply.started": "2025-02-28T00:51:09.921023Z"
    },
    "trusted": true
   },
   "outputs": [
    {
     "data": {
      "image/png": "[encoded data removed]",
      "text/plain": [
       "<Figure size 1400x600 with 2 Axes>"
      ]
     },
     "metadata": {},
     "output_type": "display_data"
    }
   ],
   "source": [
    "import matplotlib.pyplot as plt\n",
    "\n",
    "#These values were compiled from the values printed before and in the other jupyter notebook.\n",
    "# Validation values are from the odd-indexed lines and training from the even-indexed lines.\n",
    "val_acc_02   = [0.3375, 0.3387, 0.5378, 0.5897, 0.5809, 0.6100, 0.6877, 0.6918, 0.7275, 0.6952,\n",
    "                0.7215, 0.6296, 0.7503, 0.6839, 0.7623, 0.7567, 0.7512, 0.7499, 0.7567, 0.7593]\n",
    "val_loss_02  = [1.0966, 1.0704, 0.9772, 0.9158, 1.1888, 0.8148, 0.7316, 0.6915, 0.6524, 0.8128,\n",
    "                0.6391, 0.7953, 0.6466, 0.7314, 0.6111, 0.6387, 0.6327, 0.7452, 0.6892, 0.6628]\n",
    "\n",
    "train_acc_02 = [0.4186, 0.5584, 0.6594, 0.6828, 0.6929, 0.7165, 0.7432, 0.7519, 0.7652, 0.7867,\n",
    "                0.7743, 0.7986, 0.8004, 0.8264, 0.8368, 0.8500, 0.8629, 0.8726, 0.8893, 0.8972]\n",
    "train_loss_02 = [1.0608, 0.9317, 0.8012, 0.7492, 0.7199, 0.6787, 0.6318, 0.6109, 0.5815, 0.5424,\n",
    "                 0.5590, 0.5091, 0.5049, 0.4599, 0.4271, 0.3987, 0.3693, 0.3470, 0.3082, 0.2886]\n",
    "\n",
    "\n",
    "# Validation metrics\n",
    "val_acc_04 = [0.3800, 0.3859, 0.5876, 0.6486, 0.6645,0.6467, 0.6707, 0.6316, 0.6196, 0.7102,\n",
    "    0.6939, 0.7290, 0.7413, 0.7221, 0.7405,0.7478, 0.7518, 0.7533, 0.7525, 0.7644]\n",
    "\n",
    "val_loss_04 = [1.0957, 1.0778, 0.9825, 0.8102, 0.7667,0.8501, 0.7401, 0.8579, 0.8033, 0.6790,\n",
    "    0.7822, 0.6744, 0.6105, 0.6566, 0.6421,0.5982, 0.5876, 0.6051, 0.6055, 0.5899]\n",
    "\n",
    "# Training metrics\n",
    "train_acc_04 = [0.3679, 0.4731, 0.5905, 0.6410, 0.6739,0.6807, 0.6912, 0.7226, 0.6740, 0.7211,\n",
    "    0.7493, 0.7671, 0.7604, 0.7771, 0.7902,0.7993, 0.8113, 0.8166, 0.8214, 0.8318]\n",
    "\n",
    "train_loss_04 = [\n",
    "    1.1450, 1.0255, 0.8933, 0.8208, 0.7686,0.7568, 0.7329, 0.6830, 0.7591, 0.6842,\n",
    "    0.6281, 0.6012, 0.5987, 0.5744, 0.5448,0.5218, 0.5019, 0.4872, 0.4777, 0.4539\n",
    "]\n",
    "\n",
    "\n",
    "train_acc_05 = [0.3271, 0.3700, 0.4455, 0.5299, 0.6042, 0.6226, 0.6704, 0.6863, 0.7170, 0.7251,\n",
    "                0.7359, 0.7188, 0.7470, 0.7679, 0.7752, 0.7857, 0.7932, 0.8036, 0.8047, 0.8098]\n",
    "val_acc_05   = [0.2824, 0.4143, 0.4831, 0.5967, 0.3394, 0.6484, 0.6544, 0.6978, 0.7044, 0.6557,\n",
    "                0.7262, 0.6986, 0.7381, 0.7317, 0.7450, 0.7394, 0.7518, 0.7516, 0.7535, 0.7281]\n",
    "\n",
    "train_loss_05 = [1.1832, 1.1185, 1.0470, 0.9615, 0.8920, 0.8554, 0.7929, 0.7599, 0.7141, 0.6894,\n",
    "                 0.6652, 0.7165, 0.6489, 0.6103, 0.6017, 0.6146, 0.6090, 0.6051, 0.6427, 0.6420]\n",
    "val_loss_05   = [1.1032, 1.0863, 1.0408, 0.8792, 1.7154, 0.7809, 0.7692, 0.7038, 0.7200, 0.9626,\n",
    "                 0.6418, 0.7427, 0.6235, 0.6190, 0.6017, 0.6146, 0.6090, 0.6051, 0.6427, 0.6420]\n",
    "\n",
    "train_acc_06 = [0.3500, 0.3446, 0.3672, 0.4124, 0.4637, 0.5122, 0.5735, 0.6183, 0.6562, 0.6727, 0.6741,\n",
    "                0.7027, 0.7233, 0.7061, 0.7281, 0.7540, 0.7707, 0.7766, 0.7808, 0.7914]\n",
    "\n",
    "val_acc_06   = [0.2852, 0.3800, 0.3800, 0.4430, 0.4816, 0.6115, 0.6219, 0.6493, 0.5936, 0.6625, 0.6382,\n",
    "                0.6758, 0.6909, 0.6963, 0.7339, 0.7236, 0.7486, 0.7450, 0.7396, 0.7505]\n",
    "\n",
    "train_loss_06 = [1.1500, 1.1819, 1.1331, 1.0789, 1.0265, 0.9805, 0.9306, 0.8759, 0.8253, 0.7969, 0.7840,\n",
    "                 0.7367, 0.7093, 0.7222, 0.6797, 0.6402, 0.6082, 0.5949, 0.5887, 0.5680]\n",
    "\n",
    "val_loss_06   = [1.1249,1.0990, 1.0924, 1.0641, 0.9944, 0.9068, 0.8505, 0.8069, 0.8675, 0.7900, 0.7827,\n",
    "                 0.7294, 0.7026, 0.7041, 0.6375, 0.6455, 0.6047, 0.6157, 0.6473, 0.6283]\n",
    "\n",
    "\n",
    "\n",
    "# Epochs for each dropout rate (based on list lengths)\n",
    "epochs_02 = list(range(1, len(val_acc_02) + 1))\n",
    "epochs_04 = list(range(1, len(val_acc_04) + 1))\n",
    "epochs_05 = list(range(1, len(val_acc_05) + 1))\n",
    "epochs_06 = list(range(1, len(val_acc_06) + 1))\n",
    "\n",
    "plt.figure(figsize=(14, 6))\n",
    "\n",
    "# ---------------------------\n",
    "# Accuracy subplot\n",
    "plt.subplot(1, 2, 1)\n",
    "plt.plot(epochs_02, train_acc_02, 'b-o', label='Train Acc (0.2)')\n",
    "plt.plot(epochs_02, val_acc_02, 'b--o', label='Val Acc (0.2)')\n",
    "\n",
    "plt.plot(epochs_04, train_acc_04, 'g-o', label='Train Acc (0.4)')\n",
    "plt.plot(epochs_04, val_acc_04, 'g--o', label='Val Acc (0.4)')\n",
    "\n",
    "plt.plot(epochs_05, train_acc_05, 'r-o', label='Train Acc (0.5)')\n",
    "plt.plot(epochs_05, val_acc_05, 'r--o', label='Val Acc (0.5)')\n",
    "\n",
    "plt.plot(epochs_06, train_acc_06, 'm-o', label='Train Acc (0.6)')\n",
    "plt.plot(epochs_06, val_acc_06, 'm--o', label='Val Acc (0.6)')\n",
    "\n",
    "plt.xlabel(\"Epoch\")\n",
    "plt.ylabel(\"Accuracy\")\n",
    "plt.title(\"Training & Validation Accuracy\")\n",
    "plt.legend()\n",
    "plt.grid(True)\n",
    "\n",
    "# ---------------------------\n",
    "# Loss subplot\n",
    "plt.subplot(1, 2, 2)\n",
    "plt.plot(epochs_02, train_loss_02, 'b-o', label='Train Loss (0.2)')\n",
    "plt.plot(epochs_02, val_loss_02, 'b--o', label='Val Loss (0.2)')\n",
    "\n",
    "plt.plot(epochs_04, train_loss_04, 'g-o', label='Train Loss (0.4)')\n",
    "plt.plot(epochs_04, val_loss_04, 'g--o', label='Val Loss (0.4)')\n",
    "\n",
    "plt.plot(epochs_05, train_loss_05, 'r-o', label='Train Loss (0.5)')\n",
    "plt.plot(epochs_05, val_loss_05, 'r--o', label='Val Loss (0.5)')\n",
    "\n",
    "plt.plot(epochs_06, train_loss_06, 'm-o', label='Train Loss (0.6)')\n",
    "plt.plot(epochs_06, val_loss_06, 'm--o', label='Val Loss (0.6)')\n",
    "\n",
    "plt.xlabel(\"Epoch\")\n",
    "plt.ylabel(\"Loss\")\n",
    "plt.title(\"Training & Validation Loss\")\n",
    "plt.legend()\n",
    "plt.grid(True)\n",
    "\n",
    "plt.tight_layout()\n",
    "plt.show()"
   ]
  },
  {
   "cell_type": "code",
   "execution_count": null,
   "metadata": {
    "trusted": true
   },
   "outputs": [],
   "source": []
  }
 ],
 "metadata": {
  "kaggle": {
   "accelerator": "nvidiaTeslaT4",
   "dataSources": [
    {
     "datasetId": 6763,
     "sourceId": 9801,
     "sourceType": "datasetVersion"
    },
    {
     "datasetId": 2196935,
     "sourceId": 3670159,
     "sourceType": "datasetVersion"
    }
   ],
   "dockerImageVersionId": 30919,
   "isGpuEnabled": true,
   "isInternetEnabled": true,
   "language": "python",
   "sourceType": "notebook"
  },
  "kernelspec": {
   "display_name": "Python 3",
   "language": "python",
   "name": "python3"
  },
  "language_info": {
   "codemirror_mode": {
    "name": "ipython",
    "version": 3
   },
   "file_extension": ".py",
   "mimetype": "text/x-python",
   "name": "python",
   "nbconvert_exporter": "python",
   "pygments_lexer": "ipython3",
   "version": "3.10.12"
  }
 },
 "nbformat": 4,
 "nbformat_minor": 4
}
